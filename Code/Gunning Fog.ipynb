{
 "cells": [
  {
   "cell_type": "code",
   "execution_count": 1,
   "id": "1a710e21",
   "metadata": {},
   "outputs": [],
   "source": [
    "%load_ext autoreload\n",
    "%autoreload 2\n",
    "%matplotlib inline"
   ]
  },
  {
   "cell_type": "code",
   "execution_count": 2,
   "id": "de83f26b",
   "metadata": {},
   "outputs": [],
   "source": [
    "import pandas as pd\n",
    "import numpy as np\n",
    "import matplotlib.pyplot as plt\n",
    "import syllables\n",
    "import re\n",
    "from sklearn.linear_model import LinearRegression\n",
    "from sklearn.metrics import mean_squared_error, r2_score\n",
    "from sklearn.model_selection import cross_val_score"
   ]
  },
  {
   "cell_type": "code",
   "execution_count": 3,
   "id": "1abce061",
   "metadata": {},
   "outputs": [],
   "source": [
    "df = pd.read_csv('../Data/train.csv')"
   ]
  },
  {
   "cell_type": "code",
   "execution_count": 4,
   "id": "005ab495",
   "metadata": {},
   "outputs": [],
   "source": [
    "excerpts = df['excerpt']"
   ]
  },
  {
   "cell_type": "code",
   "execution_count": 5,
   "id": "ce5d396f",
   "metadata": {},
   "outputs": [],
   "source": [
    "i = 0\n",
    "excerptData = {}\n",
    "for entry in excerpts:\n",
    "    count = 0\n",
    "    excerptData[i] = [len(entry.split()), len(re.split(r'\\.!?', entry))]\n",
    "    for word in entry.split():\n",
    "        word = word.strip(',.')\n",
    "        if (syllables.estimate(word) >= 3) and ((not word.endswith('ed')) or (not word.endswith('ing')) or (not word.endswith('es'))):\n",
    "            count += 1\n",
    "    excerptData[i].append(count)\n",
    "    i += 1\n",
    "        "
   ]
  },
  {
   "cell_type": "code",
   "execution_count": 6,
   "id": "5a37dd36",
   "metadata": {},
   "outputs": [],
   "source": [
    "def GunningFog(words, sentences, complexWords):\n",
    "    \n",
    "    return (.4*((words/sentences) + 100*(complexWords/words)))"
   ]
  },
  {
   "cell_type": "code",
   "execution_count": 7,
   "id": "94b04557",
   "metadata": {},
   "outputs": [],
   "source": [
    "for i in range(len(excerptData)):\n",
    "    excerptData[i].append(GunningFog(*excerptData[i]))"
   ]
  },
  {
   "cell_type": "code",
   "execution_count": 8,
   "id": "77d15956",
   "metadata": {},
   "outputs": [],
   "source": [
    "excerptData = np.array(list(excerptData.values()))"
   ]
  },
  {
   "cell_type": "code",
   "execution_count": 9,
   "id": "e7ea7d18",
   "metadata": {},
   "outputs": [],
   "source": [
    "targetValues = np.array(df['target'])\n",
    "gunningFog = excerptData[:, 3].reshape(-1,1)"
   ]
  },
  {
   "cell_type": "code",
   "execution_count": 10,
   "id": "8d054748",
   "metadata": {},
   "outputs": [],
   "source": [
    "reg = LinearRegression().fit(gunningFog, targetValues)"
   ]
  },
  {
   "cell_type": "code",
   "execution_count": 11,
   "id": "7cef88e2",
   "metadata": {},
   "outputs": [],
   "source": [
    "predictions = reg.predict(gunningFog)"
   ]
  },
  {
   "cell_type": "code",
   "execution_count": 12,
   "id": "3b719800",
   "metadata": {},
   "outputs": [
    {
     "data": {
      "text/plain": [
       "Text(0, 0.5, 'Target Values')"
      ]
     },
     "execution_count": 12,
     "metadata": {},
     "output_type": "execute_result"
    },
    {
     "data": {
      "image/png": "[encoded data removed]",
      "text/plain": [
       "<Figure size 432x288 with 1 Axes>"
      ]
     },
     "metadata": {
      "needs_background": "light"
     },
     "output_type": "display_data"
    }
   ],
   "source": [
    "plt.scatter(excerptData[:, 3], targetValues, color = 'black')\n",
    "plt.plot(excerptData[:, 3], predictions, color = 'blue')\n",
    "plt.xlabel(\"Gunning Fog Index\")\n",
    "plt.ylabel(\"Target Values\")"
   ]
  },
  {
   "cell_type": "code",
   "execution_count": 13,
   "id": "910370c9",
   "metadata": {},
   "outputs": [
    {
     "data": {
      "text/plain": [
       "0.8734839815296762"
      ]
     },
     "execution_count": 13,
     "metadata": {},
     "output_type": "execute_result"
    }
   ],
   "source": [
    "mean_squared_error(targetValues,predictions, squared = False)"
   ]
  },
  {
   "cell_type": "code",
   "execution_count": 14,
   "id": "25d472f1",
   "metadata": {},
   "outputs": [
    {
     "data": {
      "text/plain": [
       "0.2855437525361644"
      ]
     },
     "execution_count": 14,
     "metadata": {},
     "output_type": "execute_result"
    }
   ],
   "source": [
    "r2_score(targetValues, predictions)"
   ]
  },
  {
   "cell_type": "code",
   "execution_count": 15,
   "id": "eb823da7",
   "metadata": {},
   "outputs": [],
   "source": [
    "scores = cross_val_score(reg, gunningFog, targetValues, scoring=\"neg_root_mean_squared_error\", cv=10)\n",
    "scores = - scores"
   ]
  },
  {
   "cell_type": "code",
   "execution_count": 16,
   "id": "1b644834",
   "metadata": {},
   "outputs": [
    {
     "data": {
      "text/plain": [
       "(array([0.77110012, 0.85592681, 0.94437747, 0.89865421, 0.90894087,\n",
       "        0.96510534, 1.01305319, 0.86942087, 0.69226325, 0.88588643]),\n",
       " 0.8804728550985612,\n",
       " 0.08837658320452584)"
      ]
     },
     "execution_count": 16,
     "metadata": {},
     "output_type": "execute_result"
    }
   ],
   "source": [
    "scores, scores.mean(), scores.std()"
   ]
  },
  {
   "cell_type": "code",
   "execution_count": null,
   "id": "97a1d897",
   "metadata": {},
   "outputs": [],
   "source": []
  }
 ],
 "metadata": {
  "kernelspec": {
   "display_name": "Python 3 (ipykernel)",
   "language": "python",
   "name": "python3"
  },
  "language_info": {
   "codemirror_mode": {
    "name": "ipython",
    "version": 3
   },
   "file_extension": ".py",
   "mimetype": "text/x-python",
   "name": "python",
   "nbconvert_exporter": "python",
   "pygments_lexer": "ipython3",
   "version": "3.9.5"
  }
 },
 "nbformat": 4,
 "nbformat_minor": 5
}
