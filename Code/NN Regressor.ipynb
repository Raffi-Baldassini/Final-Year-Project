{
 "cells": [
  {
   "cell_type": "code",
   "execution_count": 1,
   "id": "f0c7e5e1",
   "metadata": {},
   "outputs": [],
   "source": [
    "%load_ext autoreload\n",
    "%autoreload 2\n",
    "%matplotlib inline"
   ]
  },
  {
   "cell_type": "code",
   "execution_count": 2,
   "id": "353fdb3b",
   "metadata": {},
   "outputs": [],
   "source": [
    "import numpy as np\n",
    "import pandas as pd\n",
    "import matplotlib.pyplot as plt\n",
    "\n",
    "from sklearn.compose import ColumnTransformer\n",
    "\n",
    "from sklearn.pipeline import Pipeline\n",
    "\n",
    "from sklearn.preprocessing import StandardScaler\n",
    "from sklearn.preprocessing import LabelEncoder\n",
    "\n",
    "from sklearn.model_selection import train_test_split\n",
    "\n",
    "from sklearn.metrics import mean_absolute_error\n",
    "from sklearn.metrics import accuracy_score\n",
    "\n",
    "from tensorflow.keras import Model\n",
    "from tensorflow.keras import metrics\n",
    "from tensorflow.keras import Input\n",
    "from tensorflow.keras.layers.experimental.preprocessing import Rescaling\n",
    "from tensorflow.keras.layers import Dense\n",
    "from tensorflow.keras.layers import Dropout\n",
    "from tensorflow.keras.layers import BatchNormalization\n",
    "\n",
    "from tensorflow.keras.optimizers import SGD\n",
    "\n",
    "from tensorflow.keras.regularizers import l1\n",
    "from tensorflow.keras.regularizers import l2\n",
    "\n",
    "from tensorflow.keras.wrappers.scikit_learn import KerasRegressor\n",
    "from tensorflow.keras.wrappers.scikit_learn import KerasClassifier\n",
    "\n",
    "from lib.pyimagesearch import LearningRateFinder\n",
    "from lib.clr_callback import CyclicLR"
   ]
  },
  {
   "cell_type": "code",
   "execution_count": 3,
   "id": "5e4c6184",
   "metadata": {},
   "outputs": [],
   "source": [
    "dfAll = pd.read_csv('../Data/AllHeuristics.csv', encoding = 'utf-8', lineterminator=\"\\n\")\n",
    "dfTrain = pd.read_csv('../Data/train.csv', encoding = 'utf-8', lineterminator=\"\\n\")"
   ]
  },
  {
   "cell_type": "code",
   "execution_count": 4,
   "id": "bc8a50a8",
   "metadata": {},
   "outputs": [],
   "source": [
    "dfAll = dfAll.drop(['Unnamed: 0'], axis = 1)\n",
    "dfAll = dfAll.drop(['Index'], axis = 1)"
   ]
  },
  {
   "cell_type": "code",
   "execution_count": 5,
   "id": "81da9655",
   "metadata": {},
   "outputs": [],
   "source": [
    "columns = list(dfAll.columns)"
   ]
  },
  {
   "cell_type": "code",
   "execution_count": 6,
   "id": "90af7dbb",
   "metadata": {},
   "outputs": [],
   "source": [
    "targets = dfTrain['target']"
   ]
  },
  {
   "cell_type": "code",
   "execution_count": 7,
   "id": "c165d911",
   "metadata": {},
   "outputs": [],
   "source": [
    "col_pre = ColumnTransformer([\n",
    "        (\"scaler\", StandardScaler(), columns)],\n",
    "        remainder=\"passthrough\")"
   ]
  },
  {
   "cell_type": "code",
   "execution_count": 38,
   "id": "7d2cbda5",
   "metadata": {},
   "outputs": [],
   "source": [
    "dfAll = col_pre.fit_transform(dfAll)"
   ]
  },
  {
   "cell_type": "code",
   "execution_count": 42,
   "id": "e37e9fc1",
   "metadata": {},
   "outputs": [
    {
     "data": {
      "text/plain": [
       "(2834, 22)"
      ]
     },
     "execution_count": 42,
     "metadata": {},
     "output_type": "execute_result"
    }
   ],
   "source": [
    "dfAll.shape"
   ]
  },
  {
   "cell_type": "code",
   "execution_count": 32,
   "id": "12898301",
   "metadata": {},
   "outputs": [],
   "source": [
    "inputs = Input(shape=(22,))\n",
    "x = Rescaling(scale=1./255)(inputs)\n",
    "x = Dense(1024, activation=\"relu\")(x)\n",
    "x = Dropout(0.5)(x)\n",
    "x = BatchNormalization()(x)\n",
    "x = Dense(1024, activation=\"relu\")(x)\n",
    "outputs = Dense(1, activation=\"linear\")(x)\n",
    "\n",
    "reg_model = Model(inputs, outputs)\n",
    "\n",
    "reg_model.compile(optimizer=SGD(learning_rate=0.0001), loss=\"mse\", metrics=[metrics.MeanAbsoluteError(name='MAE')])"
   ]
  },
  {
   "cell_type": "code",
   "execution_count": 39,
   "id": "cb02af98",
   "metadata": {},
   "outputs": [
    {
     "data": {
      "text/plain": [
       "(1.122438669204712, 0.8711578845977783, 0.8700550198554993)"
      ]
     },
     "execution_count": 39,
     "metadata": {},
     "output_type": "execute_result"
    }
   ],
   "source": [
    "history = reg_model.fit(dfAll, targets, epochs=60, batch_size=32, \n",
    "                                verbose=0, validation_split=0.20)\n",
    "history.history[\"loss\"][-1], history.history[\"val_loss\"][-1], history.history['MAE'][-1]"
   ]
  },
  {
   "cell_type": "code",
   "execution_count": 40,
   "id": "65572e6f",
   "metadata": {},
   "outputs": [
    {
     "data": {
      "image/png": "[encoded data removed]",
      "text/plain": [
       "<Figure size 432x288 with 1 Axes>"
      ]
     },
     "metadata": {
      "needs_background": "light"
     },
     "output_type": "display_data"
    }
   ],
   "source": [
    "lr_finder = LearningRateFinder(reg_model)\n",
    "\n",
    "lr_finder.find(trainData=(dfAll, targets), \n",
    "               startLR=1e-14, endLR=1e+1, \n",
    "               epochs=5, batchSize=32, verbose=0)\n",
    "\n",
    "lr_finder.plot_loss(skipBegin=10, skipEnd=1, title=\"\")"
   ]
  },
  {
   "cell_type": "code",
   "execution_count": 46,
   "id": "9d56895a",
   "metadata": {},
   "outputs": [],
   "source": [
    "batch_size = 32\n",
    "step_size = 6 * dfAll.shape[0] // 32\n",
    "\n",
    "clr = CyclicLR(base_lr=10e-7, max_lr=10e-5, step_size=step_size)\n",
    "\n",
    "history = reg_model.fit(dfAll, targets, epochs=50, batch_size=batch_size, validation_split=0.2, \n",
    "                          callbacks=[clr], verbose=0)"
   ]
  },
  {
   "cell_type": "code",
   "execution_count": 47,
   "id": "5e552f8c",
   "metadata": {},
   "outputs": [
    {
     "data": {
      "text/plain": [
       "<AxesSubplot:>"
      ]
     },
     "execution_count": 47,
     "metadata": {},
     "output_type": "execute_result"
    },
    {
     "data": {
      "image/png": "[encoded data removed]",
      "text/plain": [
       "<Figure size 432x288 with 1 Axes>"
      ]
     },
     "metadata": {
      "needs_background": "light"
     },
     "output_type": "display_data"
    }
   ],
   "source": [
    "pd.DataFrame(history.history).plot()"
   ]
  },
  {
   "cell_type": "code",
   "execution_count": 48,
   "id": "7ec99d92",
   "metadata": {},
   "outputs": [
    {
     "data": {
      "text/plain": [
       "0.8695273995399475"
      ]
     },
     "execution_count": 48,
     "metadata": {},
     "output_type": "execute_result"
    }
   ],
   "source": [
    "history.history['MAE'][-1]"
   ]
  },
  {
   "cell_type": "code",
   "execution_count": null,
   "id": "60972747",
   "metadata": {},
   "outputs": [],
   "source": []
  }
 ],
 "metadata": {
  "kernelspec": {
   "display_name": "Python 3 (ipykernel)",
   "language": "python",
   "name": "python3"
  },
  "language_info": {
   "codemirror_mode": {
    "name": "ipython",
    "version": 3
   },
   "file_extension": ".py",
   "mimetype": "text/x-python",
   "name": "python",
   "nbconvert_exporter": "python",
   "pygments_lexer": "ipython3",
   "version": "3.9.2"
  }
 },
 "nbformat": 4,
 "nbformat_minor": 5
}
