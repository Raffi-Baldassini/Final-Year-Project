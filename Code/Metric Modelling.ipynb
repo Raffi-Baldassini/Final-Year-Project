{
 "cells": [
  {
   "cell_type": "code",
   "execution_count": 1,
   "id": "e8ef9772",
   "metadata": {},
   "outputs": [],
   "source": [
    "%load_ext autoreload\n",
    "%autoreload 2\n",
    "%matplotlib inline"
   ]
  },
  {
   "cell_type": "code",
   "execution_count": 2,
   "id": "850f86e2",
   "metadata": {},
   "outputs": [],
   "source": [
    "import pandas as pd\n",
    "import numpy as np\n",
    "import matplotlib.pyplot as plt\n",
    "import syllables\n",
    "import re\n",
    "from sklearn.preprocessing import StandardScaler\n",
    "from sklearn.linear_model import LinearRegression\n",
    "from sklearn.linear_model import SGDRegressor\n",
    "from sklearn.tree import DecisionTreeRegressor\n",
    "from sklearn.model_selection import cross_val_score\n",
    "from sklearn.metrics import mean_squared_error, r2_score"
   ]
  },
  {
   "cell_type": "code",
   "execution_count": 3,
   "id": "9fa85a88",
   "metadata": {},
   "outputs": [],
   "source": [
    "df = pd.read_csv('../Data/train.csv')"
   ]
  },
  {
   "cell_type": "code",
   "execution_count": 4,
   "id": "e89bf571",
   "metadata": {},
   "outputs": [],
   "source": [
    "excerpts = df['excerpt']"
   ]
  },
  {
   "cell_type": "code",
   "execution_count": 5,
   "id": "c3383854",
   "metadata": {},
   "outputs": [],
   "source": [
    "def extractData(excerptColumn):\n",
    "    i = 0\n",
    "    excerptData = {}\n",
    "    for entry in excerptColumn:\n",
    "        countComplex = 0\n",
    "        countSyllable = 0\n",
    "        excerptData[i] = [len(entry.split()), len(re.split(r'\\.!?', entry))]\n",
    "        for word in entry.split():\n",
    "            word = word.strip(',.\"\\'!?;:')\n",
    "            syllable = syllables.estimate(word)\n",
    "            if ( syllable >= 3) and ((not word.endswith('ed')) or (not word.endswith('ing')) or (not word.endswith('es'))):\n",
    "                countComplex += 1\n",
    "            countSyllable += syllable\n",
    "        excerptData[i].append(countSyllable)\n",
    "        excerptData[i].append(countComplex)\n",
    "        i += 1\n",
    "    return excerptData"
   ]
  },
  {
   "cell_type": "code",
   "execution_count": 6,
   "id": "16b2fb68",
   "metadata": {},
   "outputs": [],
   "source": [
    "# excerptData = np.array(list(extractData(excerpts).values()))\n",
    "# pd.DataFrame(excerptData).to_csv('../Data/Metrics.csv')"
   ]
  },
  {
   "cell_type": "code",
   "execution_count": 7,
   "id": "b2909748",
   "metadata": {},
   "outputs": [],
   "source": [
    "metric = pd.read_csv('../Data/Metrics.csv', header= None)\n",
    "metric.columns = [\"index\",\"word_count\",\"sentence_count\", \"syllable_count\", \"complex_word_count\"]"
   ]
  },
  {
   "cell_type": "code",
   "execution_count": 8,
   "id": "28cd8c2e",
   "metadata": {},
   "outputs": [],
   "source": [
    "metric = metric[[\"word_count\",\"sentence_count\", \"syllable_count\", \"complex_word_count\"]].copy()"
   ]
  },
  {
   "cell_type": "code",
   "execution_count": 9,
   "id": "19e98e16",
   "metadata": {},
   "outputs": [],
   "source": [
    "reg = LinearRegression()"
   ]
  },
  {
   "cell_type": "code",
   "execution_count": 10,
   "id": "5211efa5",
   "metadata": {},
   "outputs": [
    {
     "data": {
      "text/plain": [
       "(-3.676267773, 1.711389827)"
      ]
     },
     "execution_count": 10,
     "metadata": {},
     "output_type": "execute_result"
    }
   ],
   "source": [
    "metricArray = np.array(metric[1:])\n",
    "targetValues = np.array(df['target'])\n",
    "reg.fit(metricArray,targetValues)\n",
    "targetValues.min(), targetValues.max()"
   ]
  },
  {
   "cell_type": "code",
   "execution_count": 11,
   "id": "9a1489f2",
   "metadata": {},
   "outputs": [
    {
     "data": {
      "text/plain": [
       "(array([-0.00375627,  0.06266718, -0.00243323, -0.03427505]),\n",
       " 0.4570793308587172)"
      ]
     },
     "execution_count": 11,
     "metadata": {},
     "output_type": "execute_result"
    }
   ],
   "source": [
    "reg.coef_, reg.intercept_"
   ]
  },
  {
   "cell_type": "code",
   "execution_count": 12,
   "id": "393ebeba",
   "metadata": {},
   "outputs": [],
   "source": [
    "predictions = reg.predict(metricArray)"
   ]
  },
  {
   "cell_type": "code",
   "execution_count": 13,
   "id": "22c68851",
   "metadata": {},
   "outputs": [
    {
     "data": {
      "text/plain": [
       "0.8501610290279323"
      ]
     },
     "execution_count": 13,
     "metadata": {},
     "output_type": "execute_result"
    }
   ],
   "source": [
    "mean_squared_error(targetValues,predictions, squared = False)"
   ]
  },
  {
   "cell_type": "code",
   "execution_count": 14,
   "id": "94a4548f",
   "metadata": {},
   "outputs": [
    {
     "data": {
      "text/plain": [
       "0.32318786849128345"
      ]
     },
     "execution_count": 14,
     "metadata": {},
     "output_type": "execute_result"
    }
   ],
   "source": [
    "r2_score(targetValues, predictions)"
   ]
  },
  {
   "cell_type": "code",
   "execution_count": 15,
   "id": "62778e10",
   "metadata": {},
   "outputs": [
    {
     "data": {
      "text/plain": [
       "DecisionTreeRegressor()"
      ]
     },
     "execution_count": 15,
     "metadata": {},
     "output_type": "execute_result"
    }
   ],
   "source": [
    "tree_reg = DecisionTreeRegressor()\n",
    "tree_reg.fit(metricArray, targetValues)"
   ]
  },
  {
   "cell_type": "code",
   "execution_count": 16,
   "id": "ab30886c",
   "metadata": {},
   "outputs": [],
   "source": [
    "tree_predictions = tree_reg.predict(metricArray)"
   ]
  },
  {
   "cell_type": "code",
   "execution_count": 17,
   "id": "6bfebf21",
   "metadata": {},
   "outputs": [
    {
     "data": {
      "text/plain": [
       "0.018539661240752757"
      ]
     },
     "execution_count": 17,
     "metadata": {},
     "output_type": "execute_result"
    }
   ],
   "source": [
    "mean_squared_error(targetValues, tree_predictions, squared = False)"
   ]
  },
  {
   "cell_type": "code",
   "execution_count": 18,
   "id": "719c1cf4",
   "metadata": {},
   "outputs": [
    {
     "data": {
      "text/plain": [
       "0.9996781382732329"
      ]
     },
     "execution_count": 18,
     "metadata": {},
     "output_type": "execute_result"
    }
   ],
   "source": [
    "r2_score(targetValues, tree_predictions)"
   ]
  },
  {
   "cell_type": "code",
   "execution_count": 19,
   "id": "98d6a66d",
   "metadata": {},
   "outputs": [],
   "source": [
    "scores = cross_val_score(tree_reg, metricArray,targetValues, scoring=\"neg_root_mean_squared_error\", cv=10)\n",
    "scores = - scores"
   ]
  },
  {
   "cell_type": "code",
   "execution_count": 20,
   "id": "be339171",
   "metadata": {},
   "outputs": [
    {
     "data": {
      "text/plain": [
       "(array([1.1635825 , 1.25878281, 1.37862664, 1.2850316 , 1.14180619,\n",
       "        1.13377444, 1.22090256, 1.11875528, 1.10626926, 1.23724664]),\n",
       " 1.2044777917681109,\n",
       " 0.08288650516072944)"
      ]
     },
     "execution_count": 20,
     "metadata": {},
     "output_type": "execute_result"
    }
   ],
   "source": [
    "scores, scores.mean(), scores.std()"
   ]
  },
  {
   "cell_type": "code",
   "execution_count": 21,
   "id": "6f44060d",
   "metadata": {},
   "outputs": [],
   "source": [
    "lin_scores = cross_val_score(reg, metricArray, targetValues, scoring=\"neg_root_mean_squared_error\", cv=10)"
   ]
  },
  {
   "cell_type": "code",
   "execution_count": 22,
   "id": "8002bbf6",
   "metadata": {},
   "outputs": [],
   "source": [
    "lin_scores = - lin_scores"
   ]
  },
  {
   "cell_type": "code",
   "execution_count": 23,
   "id": "839ae1f1",
   "metadata": {},
   "outputs": [
    {
     "data": {
      "text/plain": [
       "(array([0.69669993, 0.9277535 , 1.03775653, 0.9610163 , 0.85388834,\n",
       "        0.92397938, 0.92664447, 0.83670665, 0.64456593, 0.85329651]),\n",
       " 0.8662307542861238,\n",
       " 0.11324418663768956)"
      ]
     },
     "execution_count": 23,
     "metadata": {},
     "output_type": "execute_result"
    }
   ],
   "source": [
    "lin_scores, lin_scores.mean(), lin_scores.std()"
   ]
  },
  {
   "cell_type": "code",
   "execution_count": 24,
   "id": "56fc78ac",
   "metadata": {},
   "outputs": [
    {
     "data": {
      "text/plain": [
       "SGDRegressor()"
      ]
     },
     "execution_count": 24,
     "metadata": {},
     "output_type": "execute_result"
    }
   ],
   "source": [
    "sdg_reg = SGDRegressor()\n",
    "scaler = StandardScaler()\n",
    "scaledMetric = scaler.fit_transform(metricArray)\n",
    "sdg_reg.fit(scaledMetric, targetValues)"
   ]
  },
  {
   "cell_type": "code",
   "execution_count": 25,
   "id": "dc3b68b5",
   "metadata": {},
   "outputs": [],
   "source": [
    "sdg_scores = cross_val_score(sdg_reg, scaledMetric, targetValues, scoring=\"neg_root_mean_squared_error\", cv=10)"
   ]
  },
  {
   "cell_type": "code",
   "execution_count": 26,
   "id": "13125c9f",
   "metadata": {},
   "outputs": [],
   "source": [
    "sdg_scores = - sdg_scores"
   ]
  },
  {
   "cell_type": "code",
   "execution_count": 27,
   "id": "10fed4c7",
   "metadata": {},
   "outputs": [
    {
     "data": {
      "text/plain": [
       "(array([0.6953959 , 0.93321534, 1.03514224, 0.95471666, 0.86121239,\n",
       "        0.92928737, 0.92940017, 0.82934937, 0.64422523, 0.85479528]),\n",
       " 0.8666739943270017,\n",
       " 0.11348987679227017)"
      ]
     },
     "execution_count": 27,
     "metadata": {},
     "output_type": "execute_result"
    }
   ],
   "source": [
    "sdg_scores, sdg_scores.mean(), sdg_scores.std()"
   ]
  },
  {
   "cell_type": "code",
   "execution_count": 28,
   "id": "796619e6",
   "metadata": {},
   "outputs": [
    {
     "name": "stdout",
     "output_type": "stream",
     "text": [
      "Linear Regression RMSE:0.8662307542861238\n",
      "Linear Regression STD:0.11324418663768956\n",
      "SDG Regression RMSE:0.8666739943270017\n",
      "SDG Regression STD:0.11348987679227017\n",
      "Decision Tree Regression RMSE:1.2044777917681109\n",
      "Decision Tree Regression STD:0.08288650516072944\n"
     ]
    }
   ],
   "source": [
    "print(f\"Linear Regression RMSE:{lin_scores.mean()}\")\n",
    "print(f\"Linear Regression STD:{lin_scores.std()}\")\n",
    "print(f\"SDG Regression RMSE:{sdg_scores.mean()}\")\n",
    "print(f\"SDG Regression STD:{sdg_scores.std()}\")\n",
    "print(f\"Decision Tree Regression RMSE:{scores.mean()}\")\n",
    "print(f\"Decision Tree Regression STD:{scores.std()}\")"
   ]
  },
  {
   "cell_type": "code",
   "execution_count": null,
   "id": "58419998",
   "metadata": {},
   "outputs": [],
   "source": [
    "#random forests + gradient boosting + pipelining\n",
    "#correlations between features - pearson correlation\n",
    "#principle component analysis\n",
    "#neural nets\n",
    "#part of speech tagging (nltk, stanford)"
   ]
  }
 ],
 "metadata": {
  "kernelspec": {
   "display_name": "Python 3 (ipykernel)",
   "language": "python",
   "name": "python3"
  },
  "language_info": {
   "codemirror_mode": {
    "name": "ipython",
    "version": 3
   },
   "file_extension": ".py",
   "mimetype": "text/x-python",
   "name": "python",
   "nbconvert_exporter": "python",
   "pygments_lexer": "ipython3",
   "version": "3.9.5"
  }
 },
 "nbformat": 4,
 "nbformat_minor": 5
}
