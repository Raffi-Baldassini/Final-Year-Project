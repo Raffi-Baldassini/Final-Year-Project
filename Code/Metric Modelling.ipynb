{
 "cells": [
  {
   "cell_type": "code",
   "execution_count": 1,
   "id": "e8ef9772",
   "metadata": {},
   "outputs": [],
   "source": [
    "%load_ext autoreload\n",
    "%autoreload 2\n",
    "%matplotlib inline"
   ]
  },
  {
   "cell_type": "code",
   "execution_count": 2,
   "id": "850f86e2",
   "metadata": {},
   "outputs": [],
   "source": [
    "import pandas as pd\n",
    "import numpy as np\n",
    "import matplotlib.pyplot as plt\n",
    "import syllables\n",
    "import re\n",
    "from sklearn.preprocessing import StandardScaler\n",
    "from sklearn.linear_model import LinearRegression\n",
    "from sklearn.linear_model import SGDRegressor\n",
    "from sklearn.tree import DecisionTreeRegressor\n",
    "from sklearn.ensemble import GradientBoostingRegressor\n",
    "from sklearn.ensemble import RandomForestRegressor\n",
    "from sklearn.model_selection import cross_val_score\n",
    "from sklearn.metrics import mean_squared_error, r2_score"
   ]
  },
  {
   "cell_type": "code",
   "execution_count": 3,
   "id": "9fa85a88",
   "metadata": {},
   "outputs": [],
   "source": [
    "df = pd.read_csv('../Data/train.csv')"
   ]
  },
  {
   "cell_type": "code",
   "execution_count": 4,
   "id": "e89bf571",
   "metadata": {},
   "outputs": [],
   "source": [
    "excerpts = df['excerpt']"
   ]
  },
  {
   "cell_type": "code",
   "execution_count": 5,
   "id": "c3383854",
   "metadata": {},
   "outputs": [],
   "source": [
    "def extractData(excerptColumn):\n",
    "    i = 0\n",
    "    excerptData = {}\n",
    "    for entry in excerptColumn:\n",
    "        countComplex = 0\n",
    "        countSyllable = 0\n",
    "        excerptData[i] = [len(entry.split()), len(re.split(r'\\.!?', entry))]\n",
    "        for word in entry.split():\n",
    "            word = word.strip(',.\"\\'!?;:')\n",
    "            syllable = syllables.estimate(word)\n",
    "            if ( syllable >= 3) and ((not word.endswith('ed')) or (not word.endswith('ing')) or (not word.endswith('es'))):\n",
    "                countComplex += 1\n",
    "            countSyllable += syllable\n",
    "        excerptData[i].append(countSyllable)\n",
    "        excerptData[i].append(countComplex)\n",
    "        i += 1\n",
    "    return excerptData"
   ]
  },
  {
   "cell_type": "code",
   "execution_count": 6,
   "id": "16b2fb68",
   "metadata": {},
   "outputs": [],
   "source": [
    "# excerptData = np.array(list(extractData(excerpts).values()))\n",
    "# pd.DataFrame(excerptData).to_csv('../Data/Metrics.csv')"
   ]
  },
  {
   "cell_type": "code",
   "execution_count": 7,
   "id": "b2909748",
   "metadata": {},
   "outputs": [],
   "source": [
    "metric = pd.read_csv('../Data/Metrics.csv', header= None)\n",
    "metric.columns = [\"index\",\"word_count\",\"sentence_count\", \"syllable_count\", \"complex_word_count\"]"
   ]
  },
  {
   "cell_type": "code",
   "execution_count": 8,
   "id": "28cd8c2e",
   "metadata": {},
   "outputs": [],
   "source": [
    "metric = metric[[\"word_count\",\"sentence_count\", \"syllable_count\", \"complex_word_count\"]].copy()"
   ]
  },
  {
   "cell_type": "code",
   "execution_count": 9,
   "id": "19e98e16",
   "metadata": {},
   "outputs": [],
   "source": [
    "reg = LinearRegression()"
   ]
  },
  {
   "cell_type": "code",
   "execution_count": 10,
   "id": "5211efa5",
   "metadata": {},
   "outputs": [
    {
     "data": {
      "text/plain": [
       "(-3.676267773, 1.711389827)"
      ]
     },
     "execution_count": 10,
     "metadata": {},
     "output_type": "execute_result"
    }
   ],
   "source": [
    "metricArray = np.array(metric[1:])\n",
    "targetValues = np.array(df['target'])\n",
    "reg.fit(metricArray,targetValues)\n",
    "targetValues.min(), targetValues.max()"
   ]
  },
  {
   "cell_type": "code",
   "execution_count": 11,
   "id": "9a1489f2",
   "metadata": {},
   "outputs": [
    {
     "data": {
      "text/plain": [
       "(array([-0.00375627,  0.06266718, -0.00243323, -0.03427505]),\n",
       " 0.4570793308587172)"
      ]
     },
     "execution_count": 11,
     "metadata": {},
     "output_type": "execute_result"
    }
   ],
   "source": [
    "reg.coef_, reg.intercept_"
   ]
  },
  {
   "cell_type": "code",
   "execution_count": 12,
   "id": "393ebeba",
   "metadata": {},
   "outputs": [],
   "source": [
    "predictions = reg.predict(metricArray)"
   ]
  },
  {
   "cell_type": "code",
   "execution_count": 13,
   "id": "22c68851",
   "metadata": {},
   "outputs": [
    {
     "data": {
      "text/plain": [
       "0.8501610290279323"
      ]
     },
     "execution_count": 13,
     "metadata": {},
     "output_type": "execute_result"
    }
   ],
   "source": [
    "mean_squared_error(targetValues,predictions, squared = False)"
   ]
  },
  {
   "cell_type": "code",
   "execution_count": 14,
   "id": "94a4548f",
   "metadata": {},
   "outputs": [
    {
     "data": {
      "text/plain": [
       "0.32318786849128345"
      ]
     },
     "execution_count": 14,
     "metadata": {},
     "output_type": "execute_result"
    }
   ],
   "source": [
    "r2_score(targetValues, predictions)"
   ]
  },
  {
   "cell_type": "code",
   "execution_count": 15,
   "id": "62778e10",
   "metadata": {},
   "outputs": [
    {
     "data": {
      "text/plain": [
       "DecisionTreeRegressor()"
      ]
     },
     "execution_count": 15,
     "metadata": {},
     "output_type": "execute_result"
    }
   ],
   "source": [
    "tree_reg = DecisionTreeRegressor()\n",
    "tree_reg.fit(metricArray, targetValues)"
   ]
  },
  {
   "cell_type": "code",
   "execution_count": 16,
   "id": "ab30886c",
   "metadata": {},
   "outputs": [],
   "source": [
    "tree_predictions = tree_reg.predict(metricArray)"
   ]
  },
  {
   "cell_type": "code",
   "execution_count": 17,
   "id": "6bfebf21",
   "metadata": {},
   "outputs": [
    {
     "data": {
      "text/plain": [
       "0.018539661240752757"
      ]
     },
     "execution_count": 17,
     "metadata": {},
     "output_type": "execute_result"
    }
   ],
   "source": [
    "mean_squared_error(targetValues, tree_predictions, squared = False)"
   ]
  },
  {
   "cell_type": "code",
   "execution_count": 18,
   "id": "719c1cf4",
   "metadata": {},
   "outputs": [
    {
     "data": {
      "text/plain": [
       "0.9996781382732329"
      ]
     },
     "execution_count": 18,
     "metadata": {},
     "output_type": "execute_result"
    }
   ],
   "source": [
    "r2_score(targetValues, tree_predictions)"
   ]
  },
  {
   "cell_type": "code",
   "execution_count": 19,
   "id": "98d6a66d",
   "metadata": {},
   "outputs": [],
   "source": [
    "scores = cross_val_score(tree_reg, metricArray,targetValues, scoring=\"neg_mean_absolute_error\", cv=10)\n",
    "scores = - scores"
   ]
  },
  {
   "cell_type": "code",
   "execution_count": 20,
   "id": "be339171",
   "metadata": {},
   "outputs": [
    {
     "data": {
      "text/plain": [
       "(array([0.93300849, 1.01459611, 1.10450916, 0.9906704 , 0.91591577,\n",
       "        0.89858007, 0.95331807, 0.89107984, 0.87937305, 0.96427949]),\n",
       " 0.9545330442185677,\n",
       " 0.06501035060144639)"
      ]
     },
     "execution_count": 20,
     "metadata": {},
     "output_type": "execute_result"
    }
   ],
   "source": [
    "scores, scores.mean(), scores.std()"
   ]
  },
  {
   "cell_type": "code",
   "execution_count": 21,
   "id": "6f44060d",
   "metadata": {},
   "outputs": [],
   "source": [
    "lin_scores = cross_val_score(reg, metricArray, targetValues, scoring=\"neg_mean_absolute_error\", cv=10)"
   ]
  },
  {
   "cell_type": "code",
   "execution_count": 22,
   "id": "8002bbf6",
   "metadata": {},
   "outputs": [],
   "source": [
    "lin_scores = - lin_scores"
   ]
  },
  {
   "cell_type": "code",
   "execution_count": 23,
   "id": "839ae1f1",
   "metadata": {},
   "outputs": [
    {
     "data": {
      "text/plain": [
       "(array([0.55086064, 0.76144612, 0.86098811, 0.76264975, 0.6856531 ,\n",
       "        0.71731131, 0.75487651, 0.68710959, 0.51695606, 0.66356134]),\n",
       " 0.6961412531563924,\n",
       " 0.09707080249355003)"
      ]
     },
     "execution_count": 23,
     "metadata": {},
     "output_type": "execute_result"
    }
   ],
   "source": [
    "lin_scores, lin_scores.mean(), lin_scores.std()"
   ]
  },
  {
   "cell_type": "code",
   "execution_count": 24,
   "id": "56fc78ac",
   "metadata": {},
   "outputs": [
    {
     "data": {
      "text/plain": [
       "SGDRegressor()"
      ]
     },
     "execution_count": 24,
     "metadata": {},
     "output_type": "execute_result"
    }
   ],
   "source": [
    "sdg_reg = SGDRegressor()\n",
    "scaler = StandardScaler()\n",
    "scaledMetric = scaler.fit_transform(metricArray)\n",
    "sdg_reg.fit(scaledMetric, targetValues)"
   ]
  },
  {
   "cell_type": "code",
   "execution_count": 25,
   "id": "dc3b68b5",
   "metadata": {},
   "outputs": [],
   "source": [
    "sdg_scores = cross_val_score(sdg_reg, scaledMetric, targetValues, scoring=\"neg_mean_absolute_error\", cv=10)"
   ]
  },
  {
   "cell_type": "code",
   "execution_count": 26,
   "id": "13125c9f",
   "metadata": {},
   "outputs": [],
   "source": [
    "sdg_scores = - sdg_scores"
   ]
  },
  {
   "cell_type": "code",
   "execution_count": 27,
   "id": "10fed4c7",
   "metadata": {},
   "outputs": [
    {
     "data": {
      "text/plain": [
       "(array([0.55180846, 0.76581613, 0.86632526, 0.76270447, 0.67498821,\n",
       "        0.72849804, 0.75144077, 0.68760046, 0.51935923, 0.66321347]),\n",
       " 0.6971754499320303,\n",
       " 0.09799521595385519)"
      ]
     },
     "execution_count": 27,
     "metadata": {},
     "output_type": "execute_result"
    }
   ],
   "source": [
    "sdg_scores, sdg_scores.mean(), sdg_scores.std()"
   ]
  },
  {
   "cell_type": "code",
   "execution_count": 28,
   "id": "796619e6",
   "metadata": {},
   "outputs": [
    {
     "name": "stdout",
     "output_type": "stream",
     "text": [
      "Linear Regression RMSE:0.6961412531563924\n",
      "Linear Regression STD:0.09707080249355003\n",
      "SDG Regression RMSE:0.6971754499320303\n",
      "SDG Regression STD:0.09799521595385519\n",
      "Decision Tree Regression RMSE:0.9545330442185677\n",
      "Decision Tree Regression STD:0.06501035060144639\n"
     ]
    }
   ],
   "source": [
    "print(f\"Linear Regression RMSE:{lin_scores.mean()}\")\n",
    "print(f\"Linear Regression STD:{lin_scores.std()}\")\n",
    "print(f\"SDG Regression RMSE:{sdg_scores.mean()}\")\n",
    "print(f\"SDG Regression STD:{sdg_scores.std()}\")\n",
    "print(f\"Decision Tree Regression RMSE:{scores.mean()}\")\n",
    "print(f\"Decision Tree Regression STD:{scores.std()}\")"
   ]
  },
  {
   "cell_type": "code",
   "execution_count": 29,
   "id": "58419998",
   "metadata": {},
   "outputs": [],
   "source": [
    "#random forests + gradient boosting + pipelining\n",
    "#correlations between features - pearson correlation\n",
    "#principle component analysis\n",
    "#neural nets\n",
    "#part of speech tagging (nltk, stanford)"
   ]
  },
  {
   "cell_type": "code",
   "execution_count": 30,
   "id": "1175e433",
   "metadata": {},
   "outputs": [],
   "source": [
    "gb_reg = GradientBoostingRegressor()\n",
    "gb_reg.fit(scaledMetric, targetValues)\n",
    "gb_scores = cross_val_score(gb_reg, scaledMetric, targetValues, scoring=\"neg_mean_absolute_error\", cv=10)"
   ]
  },
  {
   "cell_type": "code",
   "execution_count": 31,
   "id": "f28f92c4",
   "metadata": {},
   "outputs": [],
   "source": [
    "gb_scores = - gb_scores"
   ]
  },
  {
   "cell_type": "code",
   "execution_count": 32,
   "id": "98f090fc",
   "metadata": {},
   "outputs": [
    {
     "data": {
      "text/plain": [
       "(array([0.57290069, 0.7278632 , 0.87937069, 0.77854077, 0.67124824,\n",
       "        0.69043641, 0.72419452, 0.66293279, 0.53363464, 0.67387293]),\n",
       " 0.6914994896879213,\n",
       " 0.09262183336136393)"
      ]
     },
     "execution_count": 32,
     "metadata": {},
     "output_type": "execute_result"
    }
   ],
   "source": [
    "gb_scores, gb_scores.mean(), gb_scores.std()"
   ]
  },
  {
   "cell_type": "code",
   "execution_count": 33,
   "id": "57304cf6",
   "metadata": {},
   "outputs": [],
   "source": [
    "rf_reg = RandomForestRegressor()\n",
    "rf_reg.fit(scaledMetric, targetValues)\n",
    "rf_scores = cross_val_score(rf_reg, scaledMetric, targetValues, scoring=\"neg_mean_absolute_error\", cv=10)"
   ]
  },
  {
   "cell_type": "code",
   "execution_count": 34,
   "id": "e9bcee18",
   "metadata": {},
   "outputs": [],
   "source": [
    "rf_scores = - rf_scores"
   ]
  },
  {
   "cell_type": "code",
   "execution_count": 35,
   "id": "aa4ba232",
   "metadata": {},
   "outputs": [
    {
     "data": {
      "text/plain": [
       "(array([0.60456004, 0.74071198, 0.90821539, 0.805936  , 0.70760406,\n",
       "        0.68346489, 0.7510678 , 0.6718062 , 0.57736598, 0.71368573]),\n",
       " 0.7164418082924289,\n",
       " 0.09033241514201343)"
      ]
     },
     "execution_count": 35,
     "metadata": {},
     "output_type": "execute_result"
    }
   ],
   "source": [
    "rf_scores, rf_scores.mean(), rf_scores.std()"
   ]
  },
  {
   "cell_type": "code",
   "execution_count": null,
   "id": "8ca0ef7f",
   "metadata": {},
   "outputs": [],
   "source": []
  }
 ],
 "metadata": {
  "interpreter": {
   "hash": "c9458fb884f6289f5f6dfb6814763778e840c6448556ab70e05d258f9941c8d4"
  },
  "kernelspec": {
   "display_name": "Python 3 (ipykernel)",
   "language": "python",
   "name": "python3"
  },
  "language_info": {
   "codemirror_mode": {
    "name": "ipython",
    "version": 3
   },
   "file_extension": ".py",
   "mimetype": "text/x-python",
   "name": "python",
   "nbconvert_exporter": "python",
   "pygments_lexer": "ipython3",
   "version": "3.9.2"
  }
 },
 "nbformat": 4,
 "nbformat_minor": 5
}
