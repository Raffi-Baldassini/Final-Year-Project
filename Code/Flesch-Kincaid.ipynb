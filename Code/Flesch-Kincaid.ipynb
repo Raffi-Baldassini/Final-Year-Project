{
 "cells": [
  {
   "cell_type": "code",
   "execution_count": 1,
   "id": "b748b191",
   "metadata": {},
   "outputs": [],
   "source": [
    "%load_ext autoreload\n",
    "%autoreload 2\n",
    "%matplotlib inline"
   ]
  },
  {
   "cell_type": "code",
   "execution_count": 2,
   "id": "e087f79f",
   "metadata": {},
   "outputs": [],
   "source": [
    "import pandas as pd\n",
    "import numpy as np\n",
    "import matplotlib.pyplot as plt\n",
    "import syllables\n",
    "import re\n",
    "from sklearn.linear_model import LinearRegression\n",
    "from sklearn.metrics import mean_squared_error, r2_score\n",
    "from sklearn.model_selection import cross_val_score"
   ]
  },
  {
   "cell_type": "code",
   "execution_count": 3,
   "id": "7832ed5e",
   "metadata": {},
   "outputs": [],
   "source": [
    "df = pd.read_csv('../Data/train.csv')"
   ]
  },
  {
   "cell_type": "code",
   "execution_count": 4,
   "id": "c59d1111",
   "metadata": {},
   "outputs": [],
   "source": [
    "excerpts = df['excerpt']"
   ]
  },
  {
   "cell_type": "code",
   "execution_count": 5,
   "id": "ad7aa60d",
   "metadata": {},
   "outputs": [],
   "source": [
    "i = 0\n",
    "excerptData = {}\n",
    "for entry in excerpts:\n",
    "    count = 0\n",
    "    excerptData[i] = [len(entry.split()), len(re.split(r'\\.!?', entry))]\n",
    "    for word in entry.split():\n",
    "        word = word.strip(',.')\n",
    "        count += syllables.estimate(word)\n",
    "    excerptData[i].append(count)\n",
    "    i += 1"
   ]
  },
  {
   "cell_type": "code",
   "execution_count": 6,
   "id": "dacaeaae",
   "metadata": {},
   "outputs": [],
   "source": [
    "def fleschKincaid(words, sentences, syllableCount):\n",
    "    return (206.835 - 1.015*(words/sentences) - 84.6*(syllableCount/words))"
   ]
  },
  {
   "cell_type": "code",
   "execution_count": 7,
   "id": "131e4261",
   "metadata": {},
   "outputs": [],
   "source": [
    "for i in range(len(excerptData)):\n",
    "    excerptData[i].append(fleschKincaid(*excerptData[i]))"
   ]
  },
  {
   "cell_type": "code",
   "execution_count": 8,
   "id": "f8ae4c66",
   "metadata": {},
   "outputs": [],
   "source": [
    "excerptData = np.array(list(excerptData.values()))"
   ]
  },
  {
   "cell_type": "code",
   "execution_count": 9,
   "id": "2360a25f",
   "metadata": {},
   "outputs": [],
   "source": [
    "fleschValues = excerptData[:, 3].reshape(-1,1)"
   ]
  },
  {
   "cell_type": "code",
   "execution_count": 10,
   "id": "85ebe1ce",
   "metadata": {},
   "outputs": [],
   "source": [
    "targetValues = np.array(df['target'])"
   ]
  },
  {
   "cell_type": "code",
   "execution_count": 11,
   "id": "4e8de068",
   "metadata": {},
   "outputs": [],
   "source": [
    "reg = LinearRegression().fit(fleschValues, targetValues)"
   ]
  },
  {
   "cell_type": "code",
   "execution_count": 12,
   "id": "717a6afc",
   "metadata": {},
   "outputs": [
    {
     "data": {
      "text/plain": [
       "-2.8530248296671696"
      ]
     },
     "execution_count": 12,
     "metadata": {},
     "output_type": "execute_result"
    }
   ],
   "source": [
    "predictions = reg.predict(fleschValues)\n",
    "reg.intercept_"
   ]
  },
  {
   "cell_type": "code",
   "execution_count": 13,
   "id": "2fdce2e2",
   "metadata": {},
   "outputs": [
    {
     "data": {
      "text/plain": [
       "Text(0, 0.5, 'Target Values')"
      ]
     },
     "execution_count": 13,
     "metadata": {},
     "output_type": "execute_result"
    },
    {
     "data": {
      "image/png": "[encoded data removed]",
      "text/plain": [
       "<Figure size 432x288 with 1 Axes>"
      ]
     },
     "metadata": {
      "needs_background": "light"
     },
     "output_type": "display_data"
    }
   ],
   "source": [
    "plt.scatter(fleschValues, targetValues, color='Black')\n",
    "plt.plot(fleschValues, predictions, color='blue')\n",
    "plt.xlabel(\"Flesch Values\")\n",
    "plt.ylabel(\"Target Values\")"
   ]
  },
  {
   "cell_type": "code",
   "execution_count": 14,
   "id": "135334d2",
   "metadata": {},
   "outputs": [
    {
     "data": {
      "text/plain": [
       "0.867364494296719"
      ]
     },
     "execution_count": 14,
     "metadata": {},
     "output_type": "execute_result"
    }
   ],
   "source": [
    "mean_squared_error(targetValues,predictions, squared = False)"
   ]
  },
  {
   "cell_type": "code",
   "execution_count": 15,
   "id": "4b425170",
   "metadata": {},
   "outputs": [
    {
     "data": {
      "text/plain": [
       "0.2955194151569047"
      ]
     },
     "execution_count": 15,
     "metadata": {},
     "output_type": "execute_result"
    }
   ],
   "source": [
    "r2_score(targetValues, predictions)"
   ]
  },
  {
   "cell_type": "code",
   "execution_count": 16,
   "id": "18a00e70",
   "metadata": {},
   "outputs": [],
   "source": [
    "scores = cross_val_score(reg, fleschValues, targetValues, scoring=\"neg_root_mean_squared_error\", cv=10)\n",
    "scores = - scores"
   ]
  },
  {
   "cell_type": "code",
   "execution_count": 17,
   "id": "b793373e",
   "metadata": {},
   "outputs": [
    {
     "data": {
      "text/plain": [
       "(array([0.73260754, 0.96659198, 1.02602268, 0.92685553, 0.88928652,\n",
       "        0.95754052, 0.96349028, 0.84602094, 0.66314134, 0.87047167]),\n",
       " 0.8842028989598489,\n",
       " 0.1067270209235667)"
      ]
     },
     "execution_count": 17,
     "metadata": {},
     "output_type": "execute_result"
    }
   ],
   "source": [
    "scores, scores.mean(), scores.std()"
   ]
  },
  {
   "cell_type": "code",
   "execution_count": null,
   "id": "2552fe0e",
   "metadata": {},
   "outputs": [],
   "source": []
  }
 ],
 "metadata": {
  "kernelspec": {
   "display_name": "Python 3 (ipykernel)",
   "language": "python",
   "name": "python3"
  },
  "language_info": {
   "codemirror_mode": {
    "name": "ipython",
    "version": 3
   },
   "file_extension": ".py",
   "mimetype": "text/x-python",
   "name": "python",
   "nbconvert_exporter": "python",
   "pygments_lexer": "ipython3",
   "version": "3.9.2"
  }
 },
 "nbformat": 4,
 "nbformat_minor": 5
}
