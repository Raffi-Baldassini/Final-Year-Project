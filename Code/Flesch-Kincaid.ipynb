{
 "cells": [
  {
   "cell_type": "code",
   "execution_count": 1,
   "id": "b748b191",
   "metadata": {},
   "outputs": [],
   "source": [
    "%load_ext autoreload\n",
    "%autoreload 2\n",
    "%matplotlib inline"
   ]
  },
  {
   "cell_type": "code",
   "execution_count": 2,
   "id": "e087f79f",
   "metadata": {},
   "outputs": [],
   "source": [
    "import pandas as pd\n",
    "import numpy as np\n",
    "import matplotlib.pyplot as plt\n",
    "import syllables\n",
    "import re"
   ]
  },
  {
   "cell_type": "code",
   "execution_count": 3,
   "id": "7832ed5e",
   "metadata": {},
   "outputs": [],
   "source": [
    "df = pd.read_csv('../Data/train.csv')"
   ]
  },
  {
   "cell_type": "code",
   "execution_count": 4,
   "id": "c59d1111",
   "metadata": {},
   "outputs": [],
   "source": [
    "excerpts = df['excerpt']"
   ]
  },
  {
   "cell_type": "code",
   "execution_count": 5,
   "id": "ad7aa60d",
   "metadata": {},
   "outputs": [],
   "source": [
    "i = 0\n",
    "excerptData = {}\n",
    "for entry in excerpts:\n",
    "    count = 0\n",
    "    excerptData[i] = [len(entry.split()), len(re.split(r'\\.!?', entry))]\n",
    "    for word in entry.split():\n",
    "        word = word.strip(',.')\n",
    "        count += syllables.estimate(word)\n",
    "    excerptData[i].append(count)\n",
    "    i += 1"
   ]
  },
  {
   "cell_type": "code",
   "execution_count": 6,
   "id": "dacaeaae",
   "metadata": {},
   "outputs": [],
   "source": [
    "def fleschKincaid(words, sentences, syllableCount):\n",
    "    return (206.835 - 1.015*(words/sentences) - 84.6*(syllableCount/words))"
   ]
  },
  {
   "cell_type": "code",
   "execution_count": 7,
   "id": "131e4261",
   "metadata": {},
   "outputs": [],
   "source": [
    "for i in range(len(excerptData)):\n",
    "    excerptData[i].append(fleschKincaid(*excerptData[i]))"
   ]
  },
  {
   "cell_type": "code",
   "execution_count": 9,
   "id": "f8ae4c66",
   "metadata": {},
   "outputs": [],
   "source": [
    "excerptData = np.array(list(excerptData.values()))"
   ]
  },
  {
   "cell_type": "code",
   "execution_count": 11,
   "id": "2360a25f",
   "metadata": {},
   "outputs": [],
   "source": [
    "fleschValues = excerptData[:, 3]"
   ]
  },
  {
   "cell_type": "code",
   "execution_count": 12,
   "id": "85ebe1ce",
   "metadata": {},
   "outputs": [
    {
     "data": {
      "text/plain": [
       "array([72.12028166, 69.59712211, 72.00982932, ..., 77.05088235,\n",
       "       55.25146154, 56.60205479])"
      ]
     },
     "execution_count": 12,
     "metadata": {},
     "output_type": "execute_result"
    }
   ],
   "source": [
    "fleschValues"
   ]
  },
  {
   "cell_type": "code",
   "execution_count": null,
   "id": "4e8de068",
   "metadata": {},
   "outputs": [],
   "source": []
  }
 ],
 "metadata": {
  "kernelspec": {
   "display_name": "Python 3 (ipykernel)",
   "language": "python",
   "name": "python3"
  },
  "language_info": {
   "codemirror_mode": {
    "name": "ipython",
    "version": 3
   },
   "file_extension": ".py",
   "mimetype": "text/x-python",
   "name": "python",
   "nbconvert_exporter": "python",
   "pygments_lexer": "ipython3",
   "version": "3.9.5"
  }
 },
 "nbformat": 4,
 "nbformat_minor": 5
}
