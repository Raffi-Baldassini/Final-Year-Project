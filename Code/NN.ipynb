{
 "cells": [
  {
   "cell_type": "code",
   "execution_count": 1,
   "id": "c4c34af6",
   "metadata": {},
   "outputs": [],
   "source": [
    "%load_ext autoreload\n",
    "%autoreload 2\n",
    "%matplotlib inline"
   ]
  },
  {
   "cell_type": "code",
   "execution_count": 2,
   "id": "51b7883f",
   "metadata": {},
   "outputs": [],
   "source": [
    "import numpy as np\n",
    "import pandas as pd\n",
    "import matplotlib.pyplot as plt\n",
    "\n",
    "from sklearn.compose import ColumnTransformer\n",
    "\n",
    "from sklearn.pipeline import Pipeline\n",
    "\n",
    "from sklearn.preprocessing import StandardScaler\n",
    "from sklearn.preprocessing import LabelEncoder\n",
    "\n",
    "from sklearn.model_selection import train_test_split\n",
    "\n",
    "from sklearn.metrics import mean_absolute_error\n",
    "from sklearn.metrics import accuracy_score\n",
    "\n",
    "from tensorflow.keras import Model\n",
    "from tensorflow.keras import Sequential\n",
    "from tensorflow.keras import Input\n",
    "from tensorflow.keras.layers.experimental.preprocessing import Rescaling\n",
    "from tensorflow.keras.layers import Dense\n",
    "\n",
    "from tensorflow.keras.wrappers.scikit_learn import KerasRegressor\n",
    "from tensorflow.keras.wrappers.scikit_learn import KerasClassifier\n",
    "\n",
    "from tensorflow.keras.optimizers import SGD\n",
    "\n",
    "from sklearn.datasets import load_iris\n",
    "from tensorflow.keras.datasets.mnist import load_data"
   ]
  },
  {
   "cell_type": "code",
   "execution_count": 3,
   "id": "b2507525",
   "metadata": {},
   "outputs": [],
   "source": [
    "# Iris dataset\n",
    "\n",
    "# Load the dataset (a dictionary) and get the features DataFrame and target values from the dictionary\n",
    "iris = load_iris(as_frame=True)\n",
    "iris_df = iris.data\n",
    "iris_y = iris.target\n",
    "\n",
    "# Shuffle the features and the target values in the same way\n",
    "idx = np.random.permutation(iris_df.index)\n",
    "iris_df.reindex(idx)\n",
    "iris_y.reindex(idx)\n",
    "iris_df.reset_index(drop=True, inplace=True)\n",
    "iris_y.reset_index(drop=True, inplace=True)\n",
    "\n",
    "# Split off the test set: 20% of the dataset.\n",
    "dev_iris_df, test_iris_df, dev_iris_y, test_iris_y = train_test_split(iris_df, iris_y, train_size=0.8, \n",
    "                                                                              random_state=4)\n",
    "\n",
    "# Create the preprocessor\n",
    "iris_preprocessor = ColumnTransformer([\n",
    "        (\"scaler\", StandardScaler(), iris_df.columns)],\n",
    "        remainder=\"passthrough\")"
   ]
  },
  {
   "cell_type": "code",
   "execution_count": 4,
   "id": "75454880",
   "metadata": {},
   "outputs": [],
   "source": [
    "inputs = Input(shape=(4,))\n",
    "x = Dense(64, activation=\"relu\")(inputs)\n",
    "x = Dense(64, activation=\"relu\")(x)\n",
    "outputs = Dense(3, activation=\"softmax\")(x)\n",
    "iris_model = Sequential(Model(inputs, outputs))\n",
    "\n",
    "iris_model.compile(optimizer=SGD(learning_rate=0.01), loss=\"sparse_categorical_crossentropy\")"
   ]
  },
  {
   "cell_type": "code",
   "execution_count": 5,
   "id": "3a51c5a2",
   "metadata": {},
   "outputs": [],
   "source": [
    "# Create a pipeline\n",
    "iris_pipeline = Pipeline([\n",
    "    (\"preprocessor\", iris_preprocessor),\n",
    "    (\"predictor\", KerasClassifier(build_fn=lambda: iris_model, verbose=0, epochs=60, batch_size=32))\n",
    "])"
   ]
  },
  {
   "cell_type": "code",
   "execution_count": 6,
   "id": "b4d7a2c6",
   "metadata": {},
   "outputs": [
    {
     "data": {
      "text/plain": [
       "0.9666666666666667"
      ]
     },
     "execution_count": 6,
     "metadata": {},
     "output_type": "execute_result"
    }
   ],
   "source": [
    "# Accuracy estimation\n",
    "\n",
    "iris_pipeline.fit(dev_iris_df, dev_iris_y)\n",
    "\n",
    "# May get same warning\n",
    "accuracy_score(test_iris_y, iris_pipeline.predict(test_iris_df))"
   ]
  },
  {
   "cell_type": "code",
   "execution_count": 7,
   "id": "65ce615f",
   "metadata": {},
   "outputs": [
    {
     "name": "stdout",
     "output_type": "stream",
     "text": [
      "Downloading data from https://storage.googleapis.com/tensorflow/tf-keras-datasets/mnist.npz\n",
      "11493376/11490434 [==============================] - 2s 0us/step\n",
      "11501568/11490434 [==============================] - 2s 0us/step\n"
     ]
    }
   ],
   "source": [
    "# Keras has a utility function for downloading it into four Numpy arrays\n",
    "# To get this to work on macOS, I also had to run this in a terminal:\n",
    "# $ /Applications/Python\\ 3.8/Install\\ Certificates.command\n",
    "# You may need something similar\n",
    "(mnist_x_train, mnist_y_train), (mnist_x_test, mnist_y_test) = load_data()"
   ]
  },
  {
   "cell_type": "code",
   "execution_count": 8,
   "id": "9af1fb40",
   "metadata": {},
   "outputs": [],
   "source": [
    "mnist_x_train = mnist_x_train.reshape((60000, 28 * 28))\n",
    "\n",
    "mnist_x_test = mnist_x_test.reshape((10000, 28 * 28))"
   ]
  },
  {
   "cell_type": "code",
   "execution_count": 9,
   "id": "65c50e61",
   "metadata": {},
   "outputs": [],
   "source": [
    "inputs = Input(shape=(28 * 28,))\n",
    "x = Rescaling(scale=1./255)(inputs)\n",
    "x = Dense(512, activation=\"relu\")(x)\n",
    "outputs = Dense(10, activation=\"softmax\")(x)\n",
    "mnist_model = Model(inputs, outputs)\n",
    "\n",
    "mnist_model.compile(optimizer=SGD(learning_rate=0.01), loss=\"sparse_categorical_crossentropy\", metrics=[\"accuracy\"])"
   ]
  },
  {
   "cell_type": "code",
   "execution_count": 10,
   "id": "15048c07",
   "metadata": {},
   "outputs": [
    {
     "name": "stdout",
     "output_type": "stream",
     "text": [
      "Epoch 1/10\n",
      "1875/1875 [==============================] - 4s 2ms/step - loss: 0.6024 - accuracy: 0.8533\n",
      "Epoch 2/10\n",
      "1875/1875 [==============================] - 4s 2ms/step - loss: 0.3197 - accuracy: 0.9111\n",
      "Epoch 3/10\n",
      "1875/1875 [==============================] - 4s 2ms/step - loss: 0.2725 - accuracy: 0.9242: 0s - loss:\n",
      "Epoch 4/10\n",
      "1875/1875 [==============================] - 4s 2ms/step - loss: 0.2420 - accuracy: 0.9327\n",
      "Epoch 5/10\n",
      "1875/1875 [==============================] - 4s 2ms/step - loss: 0.2194 - accuracy: 0.9388\n",
      "Epoch 6/10\n",
      "1875/1875 [==============================] - 4s 2ms/step - loss: 0.2004 - accuracy: 0.9446\n",
      "Epoch 7/10\n",
      "1875/1875 [==============================] - 4s 2ms/step - loss: 0.1851 - accuracy: 0.9485\n",
      "Epoch 8/10\n",
      "1875/1875 [==============================] - 4s 2ms/step - loss: 0.1717 - accuracy: 0.9519\n",
      "Epoch 9/10\n",
      "1875/1875 [==============================] - 4s 2ms/step - loss: 0.1603 - accuracy: 0.9550: 0s\n",
      "Epoch 10/10\n",
      "1875/1875 [==============================] - 4s 2ms/step - loss: 0.1502 - accuracy: 0.9583\n"
     ]
    },
    {
     "data": {
      "text/plain": [
       "<keras.callbacks.History at 0x2285a1aba00>"
      ]
     },
     "execution_count": 10,
     "metadata": {},
     "output_type": "execute_result"
    }
   ],
   "source": [
    "mnist_model.fit(mnist_x_train, mnist_y_train, epochs=10, batch_size=32)"
   ]
  },
  {
   "cell_type": "code",
   "execution_count": 11,
   "id": "12925f6f",
   "metadata": {},
   "outputs": [
    {
     "name": "stdout",
     "output_type": "stream",
     "text": [
      "313/313 [==============================] - 1s 2ms/step - loss: 0.1477 - accuracy: 0.9575\n"
     ]
    },
    {
     "data": {
      "text/plain": [
       "0.9574999809265137"
      ]
     },
     "execution_count": 11,
     "metadata": {},
     "output_type": "execute_result"
    }
   ],
   "source": [
    "test_loss, test_acc = mnist_model.evaluate(mnist_x_test, mnist_y_test)\n",
    "test_acc"
   ]
  },
  {
   "cell_type": "code",
   "execution_count": null,
   "id": "e11f5225",
   "metadata": {},
   "outputs": [],
   "source": []
  }
 ],
 "metadata": {
  "kernelspec": {
   "display_name": "Python 3 (ipykernel)",
   "language": "python",
   "name": "python3"
  },
  "language_info": {
   "codemirror_mode": {
    "name": "ipython",
    "version": 3
   },
   "file_extension": ".py",
   "mimetype": "text/x-python",
   "name": "python",
   "nbconvert_exporter": "python",
   "pygments_lexer": "ipython3",
   "version": "3.9.2"
  }
 },
 "nbformat": 4,
 "nbformat_minor": 5
}
