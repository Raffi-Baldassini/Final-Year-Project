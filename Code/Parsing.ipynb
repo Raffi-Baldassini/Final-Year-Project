{
 "cells": [
  {
   "cell_type": "code",
   "execution_count": 1,
   "id": "548f67f0",
   "metadata": {},
   "outputs": [],
   "source": [
    "from sklearn.base import BaseEstimator, TransformerMixin\n",
    "import pandas as pd\n",
    "import numpy as np\n",
    "import matplotlib.pyplot as plt\n",
    "import syllables\n",
    "import re\n",
    "import stanza\n",
    "from sklearn.model_selection import cross_val_score\n",
    "from sklearn.metrics import mean_squared_error, r2_score\n",
    "from sklearn.pipeline import Pipeline"
   ]
  },
  {
   "cell_type": "code",
   "execution_count": 2,
   "id": "fc8ac81d",
   "metadata": {},
   "outputs": [],
   "source": [
    "from sklearn.preprocessing import StandardScaler\n",
    "from sklearn.linear_model import LinearRegression\n",
    "from sklearn.linear_model import SGDRegressor\n",
    "from sklearn.tree import DecisionTreeRegressor\n",
    "from sklearn.ensemble import GradientBoostingRegressor\n",
    "from sklearn.ensemble import RandomForestRegressor\n",
    "from sklearn.model_selection import cross_val_score\n",
    "from sklearn.metrics import mean_squared_error, r2_score\n",
    "from sklearn.decomposition import PCA\n",
    "from sklearn.model_selection import GridSearchCV"
   ]
  },
  {
   "cell_type": "code",
   "execution_count": 3,
   "id": "4d7ef937",
   "metadata": {},
   "outputs": [],
   "source": [
    "pos = pd.read_csv('../Data/POS_Columns.csv',)"
   ]
  },
  {
   "cell_type": "code",
   "execution_count": 4,
   "id": "93c23ed9",
   "metadata": {},
   "outputs": [],
   "source": [
    "df = pd.read_csv('../Data/train.csv', encoding = 'utf-8', lineterminator=\"\\n\")"
   ]
  },
  {
   "cell_type": "code",
   "execution_count": 5,
   "id": "69402e8f",
   "metadata": {},
   "outputs": [],
   "source": [
    "nlp = stanza.Pipeline('en', logging_level='WARN', processors='tokenize,pos,constituency, sentiment')"
   ]
  },
  {
   "cell_type": "code",
   "execution_count": 6,
   "id": "fd51000f",
   "metadata": {},
   "outputs": [],
   "source": [
    "text = df['excerpt']"
   ]
  },
  {
   "cell_type": "code",
   "execution_count": 7,
   "id": "3251a20c",
   "metadata": {},
   "outputs": [],
   "source": [
    "def convert_string(excerpt):\n",
    "    string = ''\n",
    "\n",
    "    for i in excerpt:\n",
    "        i = i.replace(\"\\n\", \"\")\n",
    "        string += i\n",
    "    return string"
   ]
  },
  {
   "cell_type": "code",
   "execution_count": 8,
   "id": "d60982d0",
   "metadata": {},
   "outputs": [],
   "source": [
    "test = convert_string(text[1])"
   ]
  },
  {
   "cell_type": "code",
   "execution_count": 9,
   "id": "3946dfb1",
   "metadata": {},
   "outputs": [],
   "source": [
    "# doc = nlp(test)"
   ]
  },
  {
   "cell_type": "code",
   "execution_count": 10,
   "id": "12812699",
   "metadata": {},
   "outputs": [],
   "source": [
    "\n",
    "# def treeWalk(child):\n",
    "    \n",
    "#         if len(child) == 0:\n",
    "#             return 1\n",
    "        \n",
    "#         depth = 0\n",
    "        \n",
    "#         for i in range(len(child)):\n",
    "#             depth = depth + treeWalk(child[i].children)\n",
    "#         return depth\n",
    "\n",
    "# i = 0\n",
    "# for sent in doc.sentences:\n",
    "#     tree = sent.constituency\n",
    "#     print(tree)\n",
    "#     child = tree.children\n",
    "#     print(treeWalk(child))\n",
    "        "
   ]
  },
  {
   "cell_type": "code",
   "execution_count": 11,
   "id": "87bc96fa",
   "metadata": {},
   "outputs": [],
   "source": [
    "# results = []\n",
    "# count = 0\n",
    "# for e in text:\n",
    "#     doc = nlp(e)\n",
    "#     depths = []\n",
    "#     for sent in doc.sentences:\n",
    "#         tree = sent.constituency\n",
    "#         child = tree.children\n",
    "#         depths.append(treeWalk(child))\n",
    "#     results.append([max(depths),round(sum(depths)/len(depths), 2)])\n",
    "#     print(count)\n",
    "#     count += 1\n"
   ]
  },
  {
   "cell_type": "code",
   "execution_count": 13,
   "id": "509bdb4f",
   "metadata": {},
   "outputs": [],
   "source": [
    "# result_Array = np.array(results)\n",
    "# pd.DataFrame(result_Array).to_csv('../Data/ParseTree.csv')\n",
    "cols = ['Index','MaxDepth', 'AVGDepth']\n",
    "dfTree = pd.read_csv('../Data/ParseTree.csv')\n",
    "dfTree.columns = cols\n",
    "dfTree = dfTree.drop(['Index'], axis = 1)"
   ]
  },
  {
   "cell_type": "code",
   "execution_count": 14,
   "id": "9e4c2659",
   "metadata": {},
   "outputs": [],
   "source": [
    "dfPOS = pd.read_csv('../Data/POS_Columns.csv', encoding = 'utf-8', lineterminator=\"\\n\")\n",
    "cols = ['Index', 'Sents', 'Words', 'C_W_C', 'S_C',\n",
    "                'ADJ', 'ADP', 'ADV', 'AUX', 'CCONJ', 'DET','INTJ', 'NOUN', \n",
    "                'NUM', 'PART', 'PRON','PROPN', 'PUNCT','SCONJ','SYM','VERB','X']\n",
    "dfPOS.columns = cols\n",
    "dfPOS = dfPOS.drop(['X'], axis = 1)"
   ]
  },
  {
   "cell_type": "code",
   "execution_count": 15,
   "id": "4175f024",
   "metadata": {},
   "outputs": [],
   "source": [
    "dfTrain = pd.read_csv('../Data/train.csv', encoding = 'utf-8', lineterminator=\"\\n\")\n",
    "target = dfTrain['target'].to_frame()\n",
    "target.columns = ['Values']"
   ]
  },
  {
   "cell_type": "code",
   "execution_count": 30,
   "id": "d2572b5e",
   "metadata": {},
   "outputs": [],
   "source": [
    "dfAll = dfPOS.copy()\n",
    "dfAll['MaxDepth'] = dfTree['MaxDepth']\n",
    "dfAll['AVGDepth'] = dfTree['AVGDepth']"
   ]
  },
  {
   "cell_type": "code",
   "execution_count": 31,
   "id": "6de396a5",
   "metadata": {},
   "outputs": [
    {
     "data": {
      "text/html": [
       "<div>\n",
       "<style scoped>\n",
       "    .dataframe tbody tr th:only-of-type {\n",
       "        vertical-align: middle;\n",
       "    }\n",
       "\n",
       "    .dataframe tbody tr th {\n",
       "        vertical-align: top;\n",
       "    }\n",
       "\n",
       "    .dataframe thead th {\n",
       "        text-align: right;\n",
       "    }\n",
       "</style>\n",
       "<table border=\"1\" class=\"dataframe\">\n",
       "  <thead>\n",
       "    <tr style=\"text-align: right;\">\n",
       "      <th></th>\n",
       "      <th>Index</th>\n",
       "      <th>Sents</th>\n",
       "      <th>Words</th>\n",
       "      <th>C_W_C</th>\n",
       "      <th>S_C</th>\n",
       "      <th>ADJ</th>\n",
       "      <th>ADP</th>\n",
       "      <th>ADV</th>\n",
       "      <th>AUX</th>\n",
       "      <th>CCONJ</th>\n",
       "      <th>...</th>\n",
       "      <th>NUM</th>\n",
       "      <th>PART</th>\n",
       "      <th>PRON</th>\n",
       "      <th>PROPN</th>\n",
       "      <th>PUNCT</th>\n",
       "      <th>SCONJ</th>\n",
       "      <th>SYM</th>\n",
       "      <th>VERB</th>\n",
       "      <th>MaxDepth</th>\n",
       "      <th>AVGDepth</th>\n",
       "    </tr>\n",
       "  </thead>\n",
       "  <tbody>\n",
       "    <tr>\n",
       "      <th>count</th>\n",
       "      <td>2834.000000</td>\n",
       "      <td>2834.000000</td>\n",
       "      <td>2834.000000</td>\n",
       "      <td>2834.000000</td>\n",
       "      <td>2834.000000</td>\n",
       "      <td>2834.000000</td>\n",
       "      <td>2834.000000</td>\n",
       "      <td>2834.000000</td>\n",
       "      <td>2834.000000</td>\n",
       "      <td>2834.000000</td>\n",
       "      <td>...</td>\n",
       "      <td>2834.000000</td>\n",
       "      <td>2834.000000</td>\n",
       "      <td>2834.000000</td>\n",
       "      <td>2834.000000</td>\n",
       "      <td>2834.000000</td>\n",
       "      <td>2834.000000</td>\n",
       "      <td>2834.000000</td>\n",
       "      <td>2834.00000</td>\n",
       "      <td>2834.000000</td>\n",
       "      <td>2834.000000</td>\n",
       "    </tr>\n",
       "    <tr>\n",
       "      <th>mean</th>\n",
       "      <td>1416.500000</td>\n",
       "      <td>9.181369</td>\n",
       "      <td>174.905787</td>\n",
       "      <td>19.942484</td>\n",
       "      <td>263.889908</td>\n",
       "      <td>13.689838</td>\n",
       "      <td>20.860268</td>\n",
       "      <td>8.975653</td>\n",
       "      <td>10.708186</td>\n",
       "      <td>7.711715</td>\n",
       "      <td>...</td>\n",
       "      <td>2.159845</td>\n",
       "      <td>4.277347</td>\n",
       "      <td>16.291814</td>\n",
       "      <td>6.604799</td>\n",
       "      <td>26.197248</td>\n",
       "      <td>4.469654</td>\n",
       "      <td>0.100565</td>\n",
       "      <td>22.47777</td>\n",
       "      <td>45.381793</td>\n",
       "      <td>25.297368</td>\n",
       "    </tr>\n",
       "    <tr>\n",
       "      <th>std</th>\n",
       "      <td>818.249656</td>\n",
       "      <td>4.308226</td>\n",
       "      <td>17.287358</td>\n",
       "      <td>11.818572</td>\n",
       "      <td>39.764395</td>\n",
       "      <td>5.485030</td>\n",
       "      <td>5.663735</td>\n",
       "      <td>4.172563</td>\n",
       "      <td>4.147206</td>\n",
       "      <td>3.302785</td>\n",
       "      <td>...</td>\n",
       "      <td>2.849353</td>\n",
       "      <td>2.632309</td>\n",
       "      <td>8.520934</td>\n",
       "      <td>6.766056</td>\n",
       "      <td>9.077591</td>\n",
       "      <td>2.620340</td>\n",
       "      <td>0.510510</td>\n",
       "      <td>6.21588</td>\n",
       "      <td>18.033296</td>\n",
       "      <td>10.369027</td>\n",
       "    </tr>\n",
       "    <tr>\n",
       "      <th>min</th>\n",
       "      <td>0.000000</td>\n",
       "      <td>2.000000</td>\n",
       "      <td>135.000000</td>\n",
       "      <td>0.000000</td>\n",
       "      <td>159.000000</td>\n",
       "      <td>0.000000</td>\n",
       "      <td>2.000000</td>\n",
       "      <td>0.000000</td>\n",
       "      <td>0.000000</td>\n",
       "      <td>0.000000</td>\n",
       "      <td>...</td>\n",
       "      <td>0.000000</td>\n",
       "      <td>0.000000</td>\n",
       "      <td>0.000000</td>\n",
       "      <td>0.000000</td>\n",
       "      <td>8.000000</td>\n",
       "      <td>0.000000</td>\n",
       "      <td>0.000000</td>\n",
       "      <td>6.00000</td>\n",
       "      <td>10.000000</td>\n",
       "      <td>6.100000</td>\n",
       "    </tr>\n",
       "    <tr>\n",
       "      <th>25%</th>\n",
       "      <td>708.250000</td>\n",
       "      <td>6.000000</td>\n",
       "      <td>161.000000</td>\n",
       "      <td>11.000000</td>\n",
       "      <td>235.000000</td>\n",
       "      <td>10.000000</td>\n",
       "      <td>17.000000</td>\n",
       "      <td>6.000000</td>\n",
       "      <td>8.000000</td>\n",
       "      <td>5.000000</td>\n",
       "      <td>...</td>\n",
       "      <td>0.000000</td>\n",
       "      <td>2.000000</td>\n",
       "      <td>9.000000</td>\n",
       "      <td>1.000000</td>\n",
       "      <td>20.000000</td>\n",
       "      <td>2.000000</td>\n",
       "      <td>0.000000</td>\n",
       "      <td>18.00000</td>\n",
       "      <td>34.000000</td>\n",
       "      <td>18.730000</td>\n",
       "    </tr>\n",
       "    <tr>\n",
       "      <th>50%</th>\n",
       "      <td>1416.500000</td>\n",
       "      <td>8.000000</td>\n",
       "      <td>177.000000</td>\n",
       "      <td>18.000000</td>\n",
       "      <td>261.000000</td>\n",
       "      <td>13.000000</td>\n",
       "      <td>21.000000</td>\n",
       "      <td>9.000000</td>\n",
       "      <td>10.000000</td>\n",
       "      <td>7.000000</td>\n",
       "      <td>...</td>\n",
       "      <td>1.000000</td>\n",
       "      <td>4.000000</td>\n",
       "      <td>16.000000</td>\n",
       "      <td>5.000000</td>\n",
       "      <td>24.000000</td>\n",
       "      <td>4.000000</td>\n",
       "      <td>0.000000</td>\n",
       "      <td>22.00000</td>\n",
       "      <td>42.000000</td>\n",
       "      <td>24.140000</td>\n",
       "    </tr>\n",
       "    <tr>\n",
       "      <th>75%</th>\n",
       "      <td>2124.750000</td>\n",
       "      <td>11.000000</td>\n",
       "      <td>190.000000</td>\n",
       "      <td>27.000000</td>\n",
       "      <td>292.000000</td>\n",
       "      <td>17.000000</td>\n",
       "      <td>25.000000</td>\n",
       "      <td>12.000000</td>\n",
       "      <td>13.000000</td>\n",
       "      <td>10.000000</td>\n",
       "      <td>...</td>\n",
       "      <td>3.000000</td>\n",
       "      <td>6.000000</td>\n",
       "      <td>22.000000</td>\n",
       "      <td>10.000000</td>\n",
       "      <td>30.000000</td>\n",
       "      <td>6.000000</td>\n",
       "      <td>0.000000</td>\n",
       "      <td>26.00000</td>\n",
       "      <td>54.000000</td>\n",
       "      <td>30.000000</td>\n",
       "    </tr>\n",
       "    <tr>\n",
       "      <th>max</th>\n",
       "      <td>2833.000000</td>\n",
       "      <td>39.000000</td>\n",
       "      <td>208.000000</td>\n",
       "      <td>68.000000</td>\n",
       "      <td>409.000000</td>\n",
       "      <td>42.000000</td>\n",
       "      <td>50.000000</td>\n",
       "      <td>29.000000</td>\n",
       "      <td>29.000000</td>\n",
       "      <td>28.000000</td>\n",
       "      <td>...</td>\n",
       "      <td>28.000000</td>\n",
       "      <td>17.000000</td>\n",
       "      <td>45.000000</td>\n",
       "      <td>54.000000</td>\n",
       "      <td>77.000000</td>\n",
       "      <td>21.000000</td>\n",
       "      <td>9.000000</td>\n",
       "      <td>45.00000</td>\n",
       "      <td>175.000000</td>\n",
       "      <td>113.500000</td>\n",
       "    </tr>\n",
       "  </tbody>\n",
       "</table>\n",
       "<p>8 rows × 23 columns</p>\n",
       "</div>"
      ],
      "text/plain": [
       "             Index        Sents        Words        C_W_C          S_C  \\\n",
       "count  2834.000000  2834.000000  2834.000000  2834.000000  2834.000000   \n",
       "mean   1416.500000     9.181369   174.905787    19.942484   263.889908   \n",
       "std     818.249656     4.308226    17.287358    11.818572    39.764395   \n",
       "min       0.000000     2.000000   135.000000     0.000000   159.000000   \n",
       "25%     708.250000     6.000000   161.000000    11.000000   235.000000   \n",
       "50%    1416.500000     8.000000   177.000000    18.000000   261.000000   \n",
       "75%    2124.750000    11.000000   190.000000    27.000000   292.000000   \n",
       "max    2833.000000    39.000000   208.000000    68.000000   409.000000   \n",
       "\n",
       "               ADJ          ADP          ADV          AUX        CCONJ  ...  \\\n",
       "count  2834.000000  2834.000000  2834.000000  2834.000000  2834.000000  ...   \n",
       "mean     13.689838    20.860268     8.975653    10.708186     7.711715  ...   \n",
       "std       5.485030     5.663735     4.172563     4.147206     3.302785  ...   \n",
       "min       0.000000     2.000000     0.000000     0.000000     0.000000  ...   \n",
       "25%      10.000000    17.000000     6.000000     8.000000     5.000000  ...   \n",
       "50%      13.000000    21.000000     9.000000    10.000000     7.000000  ...   \n",
       "75%      17.000000    25.000000    12.000000    13.000000    10.000000  ...   \n",
       "max      42.000000    50.000000    29.000000    29.000000    28.000000  ...   \n",
       "\n",
       "               NUM         PART         PRON        PROPN        PUNCT  \\\n",
       "count  2834.000000  2834.000000  2834.000000  2834.000000  2834.000000   \n",
       "mean      2.159845     4.277347    16.291814     6.604799    26.197248   \n",
       "std       2.849353     2.632309     8.520934     6.766056     9.077591   \n",
       "min       0.000000     0.000000     0.000000     0.000000     8.000000   \n",
       "25%       0.000000     2.000000     9.000000     1.000000    20.000000   \n",
       "50%       1.000000     4.000000    16.000000     5.000000    24.000000   \n",
       "75%       3.000000     6.000000    22.000000    10.000000    30.000000   \n",
       "max      28.000000    17.000000    45.000000    54.000000    77.000000   \n",
       "\n",
       "             SCONJ          SYM        VERB     MaxDepth     AVGDepth  \n",
       "count  2834.000000  2834.000000  2834.00000  2834.000000  2834.000000  \n",
       "mean      4.469654     0.100565    22.47777    45.381793    25.297368  \n",
       "std       2.620340     0.510510     6.21588    18.033296    10.369027  \n",
       "min       0.000000     0.000000     6.00000    10.000000     6.100000  \n",
       "25%       2.000000     0.000000    18.00000    34.000000    18.730000  \n",
       "50%       4.000000     0.000000    22.00000    42.000000    24.140000  \n",
       "75%       6.000000     0.000000    26.00000    54.000000    30.000000  \n",
       "max      21.000000     9.000000    45.00000   175.000000   113.500000  \n",
       "\n",
       "[8 rows x 23 columns]"
      ]
     },
     "execution_count": 31,
     "metadata": {},
     "output_type": "execute_result"
    }
   ],
   "source": [
    "dfAll.describe()"
   ]
  },
  {
   "cell_type": "code",
   "execution_count": 33,
   "id": "702d500d",
   "metadata": {},
   "outputs": [
    {
     "data": {
      "text/plain": [
       "(array([0.63547564, 0.67556796, 0.70234295, 0.69366674, 0.63662109,\n",
       "        0.63291814, 0.67115844, 0.65374728, 0.53785325, 0.64725602]),\n",
       " 0.6486607504727384,\n",
       " 0.04360073375867864)"
      ]
     },
     "execution_count": 33,
     "metadata": {},
     "output_type": "execute_result"
    }
   ],
   "source": [
    "sdg_reg = SGDRegressor()\n",
    "scaler = StandardScaler()\n",
    "scaledMetric = scaler.fit_transform(np.array(dfAll))\n",
    "sdg_reg.fit(scaledMetric, target[\"Values\"].values)\n",
    "sdg_scores = cross_val_score(sdg_reg, scaledMetric, target[\"Values\"].values, scoring=\"neg_mean_absolute_error\", cv=10)\n",
    "sdg_scores = - sdg_scores\n",
    "sdg_scores, sdg_scores.mean(), sdg_scores.std()"
   ]
  },
  {
   "cell_type": "code",
   "execution_count": 34,
   "id": "131dc734",
   "metadata": {},
   "outputs": [
    {
     "data": {
      "text/plain": [
       "(array([0.98010557, 0.87457619, 0.84912866, 0.87538642, 0.83627145,\n",
       "        0.8210236 , 0.77706706, 0.92465451, 0.83856826, 0.95565465]),\n",
       " 0.8732436384473724,\n",
       " 0.059990177780669805)"
      ]
     },
     "execution_count": 34,
     "metadata": {},
     "output_type": "execute_result"
    }
   ],
   "source": [
    "tree_reg = DecisionTreeRegressor()\n",
    "scores = cross_val_score(tree_reg, dfAll,target[\"Values\"].values, scoring=\"neg_mean_absolute_error\", cv=10)\n",
    "scores = - scores\n",
    "scores, scores.mean(), scores.std()"
   ]
  },
  {
   "cell_type": "code",
   "execution_count": 36,
   "id": "0ba14285",
   "metadata": {},
   "outputs": [
    {
     "data": {
      "text/plain": [
       "(array([0.67697168, 0.60939121, 0.58564589, 0.65396372, 0.56042341,\n",
       "        0.56107372, 0.6043913 , 0.6550868 , 0.53167059, 0.66137828]),\n",
       " 0.6099996603152341,\n",
       " 0.047647276175508485)"
      ]
     },
     "execution_count": 36,
     "metadata": {},
     "output_type": "execute_result"
    }
   ],
   "source": [
    "gb_reg = GradientBoostingRegressor()\n",
    "gb_reg.fit(scaledMetric, target[\"Values\"].values)\n",
    "gb_scores = cross_val_score(gb_reg, scaledMetric, target[\"Values\"].values, scoring=\"neg_mean_absolute_error\", cv=10)\n",
    "gb_scores = - gb_scores\n",
    "gb_scores, gb_scores.mean(), gb_scores.std()"
   ]
  },
  {
   "cell_type": "code",
   "execution_count": 38,
   "id": "bd3a0604",
   "metadata": {},
   "outputs": [
    {
     "data": {
      "text/plain": [
       "(array([0.7077319 , 0.62788386, 0.59588917, 0.64508332, 0.56390411,\n",
       "        0.57624387, 0.57231943, 0.6660265 , 0.53686705, 0.69570669]),\n",
       " 0.6187655887205901,\n",
       " 0.05572263565829568)"
      ]
     },
     "execution_count": 38,
     "metadata": {},
     "output_type": "execute_result"
    }
   ],
   "source": [
    "rf_reg = RandomForestRegressor()\n",
    "rf_reg.fit(scaledMetric, target[\"Values\"].values)\n",
    "rf_scores = cross_val_score(rf_reg, scaledMetric, target[\"Values\"].values, scoring=\"neg_mean_absolute_error\", cv=10)\n",
    "rf_scores = - rf_scores\n",
    "rf_scores, rf_scores.mean(), rf_scores.std()"
   ]
  },
  {
   "cell_type": "code",
   "execution_count": 39,
   "id": "cacb664f",
   "metadata": {},
   "outputs": [],
   "source": [
    "dfAll.to_csv('../Data/AllHeuristics.csv')"
   ]
  },
  {
   "cell_type": "code",
   "execution_count": null,
   "id": "03088459",
   "metadata": {},
   "outputs": [],
   "source": []
  }
 ],
 "metadata": {
  "kernelspec": {
   "display_name": "Python 3 (ipykernel)",
   "language": "python",
   "name": "python3"
  },
  "language_info": {
   "codemirror_mode": {
    "name": "ipython",
    "version": 3
   },
   "file_extension": ".py",
   "mimetype": "text/x-python",
   "name": "python",
   "nbconvert_exporter": "python",
   "pygments_lexer": "ipython3",
   "version": "3.9.2"
  }
 },
 "nbformat": 4,
 "nbformat_minor": 5
}
