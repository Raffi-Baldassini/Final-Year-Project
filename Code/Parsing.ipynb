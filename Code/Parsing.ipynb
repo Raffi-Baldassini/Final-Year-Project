{
 "cells": [
  {
   "cell_type": "code",
   "execution_count": 1,
   "id": "548f67f0",
   "metadata": {},
   "outputs": [],
   "source": [
    "from sklearn.base import BaseEstimator, TransformerMixin\n",
    "import pandas as pd\n",
    "import numpy as np\n",
    "import matplotlib.pyplot as plt\n",
    "import syllables\n",
    "import re\n",
    "import stanza\n",
    "from sklearn.model_selection import cross_val_score\n",
    "from sklearn.metrics import mean_squared_error, r2_score\n",
    "from sklearn.pipeline import Pipeline"
   ]
  },
  {
   "cell_type": "code",
   "execution_count": 2,
   "id": "4d7ef937",
   "metadata": {},
   "outputs": [],
   "source": [
    "pos = pd.read_csv('../Data/POS_Columns.csv',)"
   ]
  },
  {
   "cell_type": "code",
   "execution_count": 3,
   "id": "93c23ed9",
   "metadata": {},
   "outputs": [],
   "source": [
    "df = pd.read_csv('../Data/train.csv', encoding = 'utf-8', lineterminator=\"\\n\")"
   ]
  },
  {
   "cell_type": "code",
   "execution_count": 4,
   "id": "69402e8f",
   "metadata": {},
   "outputs": [],
   "source": [
    "nlp = stanza.Pipeline('en', logging_level='WARN', processors='tokenize,pos,constituency, sentiment')"
   ]
  },
  {
   "cell_type": "code",
   "execution_count": 5,
   "id": "fd51000f",
   "metadata": {},
   "outputs": [],
   "source": [
    "text = df['excerpt']"
   ]
  },
  {
   "cell_type": "code",
   "execution_count": 6,
   "id": "3251a20c",
   "metadata": {},
   "outputs": [],
   "source": [
    "def convert_string(excerpt):\n",
    "    string = ''\n",
    "\n",
    "    for i in excerpt:\n",
    "        i = i.replace(\"\\n\", \"\")\n",
    "        string += i\n",
    "    return string"
   ]
  },
  {
   "cell_type": "code",
   "execution_count": 7,
   "id": "d60982d0",
   "metadata": {},
   "outputs": [],
   "source": [
    "test = convert_string(text[1])"
   ]
  },
  {
   "cell_type": "code",
   "execution_count": 8,
   "id": "3946dfb1",
   "metadata": {},
   "outputs": [],
   "source": [
    "doc = nlp(test)"
   ]
  },
  {
   "cell_type": "code",
   "execution_count": 9,
   "id": "12812699",
   "metadata": {},
   "outputs": [
    {
     "name": "stdout",
     "output_type": "stream",
     "text": [
      "1\n",
      "1\n",
      "2\n",
      "2\n",
      "1\n",
      "2\n",
      "1\n",
      "0\n",
      "2\n",
      "2\n",
      "2\n",
      "0\n"
     ]
    }
   ],
   "source": [
    "for sent in doc.sentences:\n",
    "    tree = sent.constituency\n",
    "    print(sent.sentiment)\n",
    "#     print(tree.children)\n",
    "#     for child in tree.children:\n",
    "#         print(child.children)\n",
    "    "
   ]
  },
  {
   "cell_type": "code",
   "execution_count": null,
   "id": "87bc96fa",
   "metadata": {},
   "outputs": [],
   "source": []
  },
  {
   "cell_type": "code",
   "execution_count": null,
   "id": "fe0ce31e",
   "metadata": {},
   "outputs": [],
   "source": []
  }
 ],
 "metadata": {
  "kernelspec": {
   "display_name": "Python 3 (ipykernel)",
   "language": "python",
   "name": "python3"
  },
  "language_info": {
   "codemirror_mode": {
    "name": "ipython",
    "version": 3
   },
   "file_extension": ".py",
   "mimetype": "text/x-python",
   "name": "python",
   "nbconvert_exporter": "python",
   "pygments_lexer": "ipython3",
   "version": "3.9.2"
  }
 },
 "nbformat": 4,
 "nbformat_minor": 5
}
