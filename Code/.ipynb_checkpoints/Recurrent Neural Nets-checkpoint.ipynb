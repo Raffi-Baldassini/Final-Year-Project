{
 "cells": [
  {
   "cell_type": "code",
   "execution_count": 1,
   "id": "925a1362",
   "metadata": {},
   "outputs": [],
   "source": [
    "%load_ext autoreload\n",
    "%autoreload 2\n",
    "%matplotlib inline"
   ]
  },
  {
   "cell_type": "code",
   "execution_count": 2,
   "id": "4f33e2fc",
   "metadata": {},
   "outputs": [],
   "source": [
    "import numpy as np\n",
    "import pandas as pd\n",
    "import matplotlib.pyplot as plt"
   ]
  },
  {
   "cell_type": "code",
   "execution_count": 3,
   "id": "ca0533ef",
   "metadata": {},
   "outputs": [],
   "source": [
    "from sklearn.compose import ColumnTransformer\n",
    "\n",
    "from sklearn.pipeline import Pipeline\n",
    "\n",
    "from sklearn.preprocessing import StandardScaler\n",
    "from sklearn.preprocessing import LabelEncoder\n",
    "\n",
    "from sklearn.model_selection import train_test_split\n",
    "\n",
    "from sklearn.metrics import mean_absolute_error\n",
    "from sklearn.metrics import accuracy_score\n",
    "\n",
    "from sklearn.base import BaseEstimator, TransformerMixin"
   ]
  },
  {
   "cell_type": "code",
   "execution_count": 4,
   "id": "ee5d2d87",
   "metadata": {},
   "outputs": [],
   "source": [
    "from tensorflow.keras import Model\n",
    "from tensorflow.keras import metrics\n",
    "from tensorflow.keras import Input\n",
    "from tensorflow.keras.layers.experimental.preprocessing import Rescaling\n",
    "from tensorflow.keras.layers import Dense\n",
    "from tensorflow.keras.layers import Flatten\n",
    "from tensorflow.keras.layers import SimpleRNN\n",
    "from tensorflow.keras.layers import Embedding\n",
    "from tensorflow.keras.layers import GRU\n",
    "from tensorflow.keras.layers import Dropout\n",
    "from tensorflow.keras.layers import BatchNormalization\n",
    "\n",
    "from tensorflow.keras.callbacks import EarlyStopping\n",
    "\n",
    "from tensorflow.keras.optimizers import SGD\n",
    "\n",
    "from tensorflow.keras.regularizers import l1\n",
    "from tensorflow.keras.regularizers import l2\n",
    "\n",
    "from tensorflow.keras.wrappers.scikit_learn import KerasRegressor\n",
    "from tensorflow.keras.wrappers.scikit_learn import KerasClassifier"
   ]
  },
  {
   "cell_type": "code",
   "execution_count": 5,
   "id": "aed498d9",
   "metadata": {},
   "outputs": [],
   "source": [
    "from lib.pyimagesearch import LearningRateFinder\n",
    "from lib.clr_callback import CyclicLR"
   ]
  },
  {
   "cell_type": "code",
   "execution_count": 6,
   "id": "54bfac78",
   "metadata": {},
   "outputs": [],
   "source": [
    "import stanza"
   ]
  },
  {
   "cell_type": "code",
   "execution_count": 7,
   "id": "966f02e0",
   "metadata": {},
   "outputs": [],
   "source": [
    "from sentence_transformers import SentenceTransformer"
   ]
  },
  {
   "cell_type": "code",
   "execution_count": 8,
   "id": "d4838c52",
   "metadata": {},
   "outputs": [],
   "source": [
    "from sklearn.base import BaseEstimator, TransformerMixin"
   ]
  },
  {
   "cell_type": "code",
   "execution_count": 9,
   "id": "b94528ad",
   "metadata": {},
   "outputs": [],
   "source": [
    "dfTrain = pd.read_csv('../Data/train.csv', encoding = 'utf-8', lineterminator=\"\\n\")"
   ]
  },
  {
   "cell_type": "code",
   "execution_count": 10,
   "id": "f6f33d6c",
   "metadata": {},
   "outputs": [],
   "source": [
    "model = SentenceTransformer('all-MiniLM-L6-v2')"
   ]
  },
  {
   "cell_type": "code",
   "execution_count": 11,
   "id": "9c506d6a",
   "metadata": {},
   "outputs": [
    {
     "data": {
      "text/plain": [
       "id                                                        85aa80a4c\n",
       "url_legal                                                       NaN\n",
       "license                                                         NaN\n",
       "excerpt           All through dinner time, Mrs. Fayre was somewh...\n",
       "target                                                    -0.315372\n",
       "standard_error                                             0.480805\n",
       "Name: 1, dtype: object"
      ]
     },
     "execution_count": 11,
     "metadata": {},
     "output_type": "execute_result"
    }
   ],
   "source": [
    "dfTrain.iloc[1]"
   ]
  },
  {
   "cell_type": "code",
   "execution_count": 12,
   "id": "42b09004",
   "metadata": {},
   "outputs": [],
   "source": [
    "nlp = stanza.Pipeline('en', logging_level='WARN', processors='tokenize,pos,constituency, sentiment')"
   ]
  },
  {
   "cell_type": "code",
   "execution_count": 14,
   "id": "e89a7dff",
   "metadata": {},
   "outputs": [],
   "source": [
    "from sklearn.preprocessing import FunctionTransformer\n",
    "transformer = FunctionTransformer(model.encode)"
   ]
  },
  {
   "cell_type": "code",
   "execution_count": 15,
   "id": "7025b9cf",
   "metadata": {},
   "outputs": [],
   "source": [
    "excerpts = transformer.transform(dfTrain['excerpt'])"
   ]
  },
  {
   "cell_type": "code",
   "execution_count": 17,
   "id": "353f7ec2",
   "metadata": {},
   "outputs": [],
   "source": [
    "dev_X = excerpts\n",
    "\n",
    "dev_y = dfTrain['target']"
   ]
  },
  {
   "cell_type": "code",
   "execution_count": 25,
   "id": "e066a77b",
   "metadata": {},
   "outputs": [],
   "source": [
    "inputs = Input(shape=(384,))\n",
    "x = Rescaling(scale=1./255)(inputs)\n",
    "x = Dense(1024, activation=\"relu\")(x)\n",
    "x = Dropout(0.5)(x)\n",
    "x = BatchNormalization()(x)\n",
    "x = Dense(1024, activation=\"relu\")(x)\n",
    "outputs = Dense(1, activation=\"linear\")(x)\n",
    "dense_model = Model(inputs, outputs)\n",
    "\n",
    "dense_model.compile(optimizer=SGD(learning_rate=0.01), loss=\"mean_absolute_error\", metrics=[\"mean_absolute_error\"])"
   ]
  },
  {
   "cell_type": "code",
   "execution_count": 26,
   "id": "01bb7b00",
   "metadata": {},
   "outputs": [],
   "source": [
    "dense_history = dense_model.fit(dev_X, dev_y, epochs=10, batch_size=32, validation_split=0.25, verbose=0)"
   ]
  },
  {
   "cell_type": "code",
   "execution_count": 27,
   "id": "bac41b32",
   "metadata": {},
   "outputs": [
    {
     "data": {
      "text/plain": [
       "<AxesSubplot:>"
      ]
     },
     "execution_count": 27,
     "metadata": {},
     "output_type": "execute_result"
    },
    {
     "data": {
      "image/png": "[encoded data removed]",
      "text/plain": [
       "<Figure size 432x288 with 1 Axes>"
      ]
     },
     "metadata": {
      "needs_background": "light"
     },
     "output_type": "display_data"
    }
   ],
   "source": [
    "pd.DataFrame(dense_history.history).plot()"
   ]
  },
  {
   "cell_type": "code",
   "execution_count": 28,
   "id": "d6247b40",
   "metadata": {},
   "outputs": [],
   "source": [
    "inputs = Input(shape=(384,))\n",
    "x = Embedding(input_dim=2834, input_length=384, output_dim=384)(inputs)\n",
    "x = SimpleRNN(384, activation=\"tanh\", return_sequences=True)(x)\n",
    "outputs = Dense(1, activation=\"linear\")(x)\n",
    "rnn = Model(inputs, outputs)\n",
    "\n",
    "rnn.compile(optimizer=SGD(learning_rate=0.01), loss=\"mean_absolute_error\", metrics=[\"mean_absolute_error\"])"
   ]
  },
  {
   "cell_type": "code",
   "execution_count": 29,
   "id": "318a929d",
   "metadata": {},
   "outputs": [
    {
     "name": "stdout",
     "output_type": "stream",
     "text": [
      "Model: \"model_2\"\n",
      "_________________________________________________________________\n",
      "Layer (type)                 Output Shape              Param #   \n",
      "=================================================================\n",
      "input_5 (InputLayer)         [(None, 384)]             0         \n",
      "_________________________________________________________________\n",
      "embedding (Embedding)        (None, 384, 384)          1088256   \n",
      "_________________________________________________________________\n",
      "simple_rnn (SimpleRNN)       (None, 384, 384)          295296    \n",
      "_________________________________________________________________\n",
      "dense_8 (Dense)              (None, 384, 1)            385       \n",
      "=================================================================\n",
      "Total params: 1,383,937\n",
      "Trainable params: 1,383,937\n",
      "Non-trainable params: 0\n",
      "_________________________________________________________________\n"
     ]
    }
   ],
   "source": [
    "rnn.summary()"
   ]
  },
  {
   "cell_type": "code",
   "execution_count": 30,
   "id": "05a9f8d7",
   "metadata": {},
   "outputs": [],
   "source": [
    "rnn_history = rnn.fit(dev_X, dev_y, epochs=20, batch_size=32, validation_split=0.25, \n",
    "                      callbacks=[EarlyStopping(monitor=\"val_loss\", patience=2)], verbose=0)"
   ]
  },
  {
   "cell_type": "code",
   "execution_count": 31,
   "id": "a05f8df5",
   "metadata": {},
   "outputs": [
    {
     "data": {
      "text/plain": [
       "<AxesSubplot:>"
      ]
     },
     "execution_count": 31,
     "metadata": {},
     "output_type": "execute_result"
    },
    {
     "data": {
      "image/png": "[encoded data removed]",
      "text/plain": [
       "<Figure size 432x288 with 1 Axes>"
      ]
     },
     "metadata": {
      "needs_background": "light"
     },
     "output_type": "display_data"
    }
   ],
   "source": [
    "pd.DataFrame(rnn_history.history).plot()"
   ]
  },
  {
   "cell_type": "code",
   "execution_count": null,
   "id": "a208bd8f",
   "metadata": {},
   "outputs": [],
   "source": []
  }
 ],
 "metadata": {
  "kernelspec": {
   "display_name": "Python 3 (ipykernel)",
   "language": "python",
   "name": "python3"
  },
  "language_info": {
   "codemirror_mode": {
    "name": "ipython",
    "version": 3
   },
   "file_extension": ".py",
   "mimetype": "text/x-python",
   "name": "python",
   "nbconvert_exporter": "python",
   "pygments_lexer": "ipython3",
   "version": "3.9.2"
  }
 },
 "nbformat": 4,
 "nbformat_minor": 5
}
