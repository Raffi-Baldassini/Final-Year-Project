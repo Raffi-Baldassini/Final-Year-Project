{
 "cells": [
  {
   "cell_type": "code",
   "execution_count": 1,
   "id": "97e9c71a",
   "metadata": {},
   "outputs": [],
   "source": [
    "%load_ext autoreload\n",
    "%autoreload 2\n",
    "%matplotlib inline"
   ]
  },
  {
   "cell_type": "code",
   "execution_count": 2,
   "id": "c7670753",
   "metadata": {},
   "outputs": [],
   "source": [
    "from sklearn.base import BaseEstimator, TransformerMixin\n",
    "import pandas as pd\n",
    "import numpy as np\n",
    "import matplotlib.pyplot as plt\n",
    "import syllables\n",
    "import re\n",
    "import stanza\n",
    "from sklearn.model_selection import cross_val_score\n",
    "from sklearn.metrics import mean_squared_error, r2_score\n",
    "from sklearn.pipeline import Pipeline"
   ]
  },
  {
   "cell_type": "code",
   "execution_count": 3,
   "id": "2797f16c",
   "metadata": {},
   "outputs": [],
   "source": [
    "from sklearn.preprocessing import StandardScaler\n",
    "from sklearn.compose import ColumnTransformer\n",
    "from sklearn.linear_model import LinearRegression\n",
    "from sklearn.linear_model import SGDRegressor\n",
    "from sklearn.tree import DecisionTreeRegressor\n",
    "from sklearn.ensemble import GradientBoostingRegressor\n",
    "from sklearn.ensemble import RandomForestRegressor\n",
    "from sklearn.model_selection import cross_val_score\n",
    "from sklearn.metrics import mean_squared_error, r2_score\n",
    "from sklearn.decomposition import PCA\n",
    "from sklearn.model_selection import GridSearchCV"
   ]
  },
  {
   "cell_type": "code",
   "execution_count": 4,
   "id": "cda3e015",
   "metadata": {},
   "outputs": [],
   "source": [
    "dfAll = pd.read_csv('../Data/AllHeuristics.csv', encoding = 'utf-8', lineterminator=\"\\n\")\n",
    "dfTrain = pd.read_csv('../Data/train.csv', encoding = 'utf-8', lineterminator=\"\\n\")"
   ]
  },
  {
   "cell_type": "code",
   "execution_count": 5,
   "id": "d1cf6ccd",
   "metadata": {},
   "outputs": [],
   "source": [
    "dfAll = dfAll.drop(['Unnamed: 0'], axis = 1)\n",
    "dfAll = dfAll.drop(['Index'], axis = 1)"
   ]
  },
  {
   "cell_type": "code",
   "execution_count": 6,
   "id": "e4f805b1",
   "metadata": {},
   "outputs": [],
   "source": [
    "columns = list(dfAll.columns)\n",
    "basicFeatures = columns[:4]\n",
    "POS = columns[:-2]\n",
    "PT = columns"
   ]
  },
  {
   "cell_type": "code",
   "execution_count": 7,
   "id": "da9b7eb1",
   "metadata": {},
   "outputs": [],
   "source": [
    "dfBase = dfAll[basicFeatures]"
   ]
  },
  {
   "cell_type": "code",
   "execution_count": 8,
   "id": "c8feb765",
   "metadata": {},
   "outputs": [],
   "source": [
    "base_pipeline = Pipeline([('std_scaler', StandardScaler())])"
   ]
  },
  {
   "cell_type": "code",
   "execution_count": 9,
   "id": "d83eafd8",
   "metadata": {},
   "outputs": [],
   "source": [
    "base_transformer = ColumnTransformer([(\"base\", base_pipeline, basicFeatures)],\n",
    "                remainder=\"passthrough\")"
   ]
  },
  {
   "cell_type": "code",
   "execution_count": 10,
   "id": "f424365e",
   "metadata": {},
   "outputs": [],
   "source": [
    "base_trans = base_transformer.fit_transform(dfBase)"
   ]
  },
  {
   "cell_type": "code",
   "execution_count": 11,
   "id": "f1b767a6",
   "metadata": {},
   "outputs": [
    {
     "data": {
      "text/plain": [
       "(array([0.56026344, 0.73132931, 0.83977208, 0.77240896, 0.68635054,\n",
       "        0.70223223, 0.74954065, 0.68787813, 0.52275047, 0.6552656 ]),\n",
       " 0.690779139563342,\n",
       " 0.0898042038408686)"
      ]
     },
     "execution_count": 11,
     "metadata": {},
     "output_type": "execute_result"
    }
   ],
   "source": [
    "ols = LinearRegression()\n",
    "scores = - cross_val_score(ols, base_trans, dfTrain['target'], scoring=\"neg_mean_absolute_error\", cv=10)\n",
    "scores, scores.mean(), scores.std()"
   ]
  },
  {
   "cell_type": "code",
   "execution_count": 12,
   "id": "db0a0149",
   "metadata": {},
   "outputs": [
    {
     "data": {
      "text/plain": [
       "(array([0.59196997, 0.70036514, 0.82049283, 0.73765016, 0.6842467 ,\n",
       "        0.65129823, 0.6781565 , 0.65805631, 0.54411221, 0.65503445]),\n",
       " 0.6721382499027498,\n",
       " 0.07143056181361149)"
      ]
     },
     "execution_count": 12,
     "metadata": {},
     "output_type": "execute_result"
    }
   ],
   "source": [
    "gb_reg = GradientBoostingRegressor()\n",
    "gb_scores = cross_val_score(gb_reg, base_trans, dfTrain['target'], scoring=\"neg_mean_absolute_error\", cv=10)\n",
    "gb_scores = - gb_scores\n",
    "gb_scores, gb_scores.mean(), gb_scores.std()"
   ]
  },
  {
   "cell_type": "code",
   "execution_count": 13,
   "id": "ae6c228b",
   "metadata": {},
   "outputs": [],
   "source": [
    "# gbs = Pipeline([(\"preprocessor\", base_pipeline),\n",
    "#                (\"predictor\", GradientBoostingRegressor())])\n",
    "\n",
    "# gbs_param_grid = {\"predictor__n_estimators\": [10, 100, 500, 1000, 5000]}\n",
    "\n",
    "# gbs_gs = GridSearchCV(gbs, gbs_param_grid, scoring = \"neg_mean_absolute_error\", cv = 10)\n",
    "\n",
    "# gbs_gs.fit(base_trans, dfTrain['target'])\n",
    "\n",
    "# gbs_gs.best_params_, gbs_gs.best_score_"
   ]
  },
  {
   "cell_type": "code",
   "execution_count": 14,
   "id": "eefa0b06",
   "metadata": {},
   "outputs": [
    {
     "data": {
      "text/plain": [
       "(array([0.61238488, 0.71760476, 0.85498479, 0.77878714, 0.72157257,\n",
       "        0.65052897, 0.72101234, 0.6746013 , 0.56849696, 0.66503606]),\n",
       " 0.6965009755421809,\n",
       " 0.07785017735316001)"
      ]
     },
     "execution_count": 14,
     "metadata": {},
     "output_type": "execute_result"
    }
   ],
   "source": [
    "rf_reg = RandomForestRegressor()\n",
    "rf_combined_scores = - cross_val_score(rf_reg, base_trans, dfTrain['target'], scoring=\"neg_mean_absolute_error\", cv=10)\n",
    "rf_combined_scores, rf_combined_scores.mean(), rf_combined_scores.std()"
   ]
  },
  {
   "cell_type": "code",
   "execution_count": 15,
   "id": "2df0133d",
   "metadata": {},
   "outputs": [],
   "source": [
    "# rfs = Pipeline([(\"preprocessor\", base_pipeline),\n",
    "#                (\"predictor\", RandomForestRegressor())])\n",
    "\n",
    "# rfs_param_grid = {\"predictor__n_estimators\": [10, 100, 300, 500],\n",
    "#                  \"predictor__max_depth\": [1, 5, 10, 20, None]}\n",
    "\n",
    "# rfs_gs = GridSearchCV(rfs, rfs_param_grid, scoring = \"neg_mean_absolute_error\", cv = 10)\n",
    "\n",
    "# rfs_gs.fit(base_trans, dfTrain['target'])\n",
    "\n",
    "# rfs_gs.best_params_, rfs_gs.best_score_\n"
   ]
  },
  {
   "cell_type": "code",
   "execution_count": 16,
   "id": "6d50c15a",
   "metadata": {},
   "outputs": [
    {
     "data": {
      "image/png": "[encoded data removed]",
      "text/plain": [
       "<Figure size 432x288 with 1 Axes>"
      ]
     },
     "metadata": {
      "needs_background": "light"
     },
     "output_type": "display_data"
    }
   ],
   "source": [
    "methods = ['FK', 'GF', 'LR', 'GB', 'RF']\n",
    "MAE = [0.72, 0.71, 0.69, 0.671, 0.672]\n",
    "dfBaseScores = pd.DataFrame({'Method': methods, 'MAE': MAE}, index=methods)\n",
    "ax = dfBaseScores.plot.bar(rot = 0, title = 'Basic Heuristics')"
   ]
  },
  {
   "cell_type": "code",
   "execution_count": 17,
   "id": "4e53ae93",
   "metadata": {},
   "outputs": [],
   "source": [
    "fig = ax.get_figure()\n",
    "fig.savefig(\"images/baseHeuristics.jpg\")"
   ]
  },
  {
   "cell_type": "code",
   "execution_count": 18,
   "id": "b4d393ca",
   "metadata": {},
   "outputs": [],
   "source": [
    "dfPOS = dfAll[POS]"
   ]
  },
  {
   "cell_type": "code",
   "execution_count": 19,
   "id": "275c6520",
   "metadata": {},
   "outputs": [],
   "source": [
    "pos_transformer =  ColumnTransformer([(\"base\", base_pipeline, POS)],\n",
    "                remainder=\"passthrough\")"
   ]
  },
  {
   "cell_type": "code",
   "execution_count": 20,
   "id": "ea6fd923",
   "metadata": {},
   "outputs": [],
   "source": [
    "pos_trans = pos_transformer.fit_transform(dfPOS)"
   ]
  },
  {
   "cell_type": "code",
   "execution_count": 21,
   "id": "04ba9643",
   "metadata": {},
   "outputs": [
    {
     "data": {
      "text/plain": [
       "(array([0.58748557, 0.71196154, 0.7370633 , 0.71674263, 0.62605086,\n",
       "        0.65625646, 0.68822282, 0.65913333, 0.5167674 , 0.65089023]),\n",
       " 0.6550574135380975,\n",
       " 0.06279724083745182)"
      ]
     },
     "execution_count": 21,
     "metadata": {},
     "output_type": "execute_result"
    }
   ],
   "source": [
    "ols = LinearRegression()\n",
    "scores = - cross_val_score(ols, pos_trans, dfTrain['target'], scoring=\"neg_mean_absolute_error\", cv=10)\n",
    "scores, scores.mean(), scores.std()"
   ]
  },
  {
   "cell_type": "code",
   "execution_count": 22,
   "id": "e9cd660b",
   "metadata": {},
   "outputs": [
    {
     "data": {
      "text/plain": [
       "(array([0.60484486, 0.69084704, 0.74507342, 0.68024859, 0.62958445,\n",
       "        0.63406251, 0.66484869, 0.66010428, 0.53380446, 0.65514859]),\n",
       " 0.6498566893866091,\n",
       " 0.05308717593633107)"
      ]
     },
     "execution_count": 22,
     "metadata": {},
     "output_type": "execute_result"
    }
   ],
   "source": [
    "gb_reg = GradientBoostingRegressor()\n",
    "gb_scores = cross_val_score(gb_reg, pos_trans, dfTrain['target'], scoring=\"neg_mean_absolute_error\", cv=10)\n",
    "gb_scores = - gb_scores\n",
    "gb_scores, gb_scores.mean(), gb_scores.std()"
   ]
  },
  {
   "cell_type": "code",
   "execution_count": 23,
   "id": "034de42d",
   "metadata": {},
   "outputs": [],
   "source": [
    "# gbs = Pipeline([(\"preprocessor\", base_pipeline),\n",
    "#                (\"predictor\", GradientBoostingRegressor())])\n",
    "\n",
    "# gbs_param_grid = {\"predictor__n_estimators\": [10, 100, 500, 1000, 5000]}\n",
    "\n",
    "# gbs_gs = GridSearchCV(gbs, gbs_param_grid, scoring = \"neg_mean_absolute_error\", cv = 10)\n",
    "\n",
    "# gbs_gs.fit(pos_trans, dfTrain['target'])\n",
    "\n",
    "# gbs_gs.best_params_, gbs_gs.best_score_"
   ]
  },
  {
   "cell_type": "code",
   "execution_count": 29,
   "id": "c807a252",
   "metadata": {},
   "outputs": [
    {
     "data": {
      "text/plain": [
       "(array([0.59227242, 0.66395679, 0.7632807 , 0.68504887, 0.64764725,\n",
       "        0.63160186, 0.64474411, 0.66968066, 0.5291129 , 0.65539432]),\n",
       " 0.648273987486892,\n",
       " 0.057410960222385225)"
      ]
     },
     "execution_count": 29,
     "metadata": {},
     "output_type": "execute_result"
    }
   ],
   "source": [
    "rf_reg = RandomForestRegressor(n_estimators = 300, max_depth = 20)\n",
    "rf_combined_scores = - cross_val_score(rf_reg, pos_trans, dfTrain['target'], scoring=\"neg_mean_absolute_error\", cv=10)\n",
    "rf_combined_scores, rf_combined_scores.mean(), rf_combined_scores.std()"
   ]
  },
  {
   "cell_type": "code",
   "execution_count": 25,
   "id": "e24e59f0",
   "metadata": {},
   "outputs": [],
   "source": [
    "# rfs = Pipeline([(\"preprocessor\", base_pipeline),\n",
    "#                (\"predictor\", RandomForestRegressor())])\n",
    "\n",
    "# rfs_param_grid = {\"predictor__n_estimators\": [10, 100, 300, 500],\n",
    "#                  \"predictor__max_depth\": [1, 5, 10, 20, None]}\n",
    "\n",
    "# rfs_gs = GridSearchCV(rfs, rfs_param_grid, scoring = \"neg_mean_absolute_error\", cv = 10)\n",
    "\n",
    "# rfs_gs.fit(pos_trans, dfTrain['target'])\n",
    "\n",
    "# rfs_gs.best_params_, rfs_gs.best_score_\n"
   ]
  },
  {
   "cell_type": "code",
   "execution_count": 26,
   "id": "b804701b",
   "metadata": {},
   "outputs": [
    {
     "data": {
      "image/png": "[encoded data removed]",
      "text/plain": [
       "<Figure size 432x288 with 1 Axes>"
      ]
     },
     "metadata": {
      "needs_background": "light"
     },
     "output_type": "display_data"
    }
   ],
   "source": [
    "methods = ['FK', 'GF', 'LR', 'GB', 'RF']\n",
    "MAE = [0.72, 0.71, 0.655, 0.650, 0.647]\n",
    "dfPOScores = pd.DataFrame({'Method': methods, 'MAE': MAE}, index=methods)\n",
    "ax = dfPOScores.plot.bar(rot = 0, title ='Part of Speech Tagging')"
   ]
  },
  {
   "cell_type": "code",
   "execution_count": 27,
   "id": "229dbe42",
   "metadata": {},
   "outputs": [],
   "source": [
    "fig = ax.get_figure()\n",
    "fig.savefig(\"images/POS.jpg\")"
   ]
  },
  {
   "cell_type": "code",
   "execution_count": 28,
   "id": "69f27b24",
   "metadata": {},
   "outputs": [],
   "source": [
    "parse_transformer = ColumnTransformer([(\"base\", base_pipeline, columns)],\n",
    "                remainder=\"passthrough\")"
   ]
  },
  {
   "cell_type": "code",
   "execution_count": 30,
   "id": "3c025215",
   "metadata": {},
   "outputs": [],
   "source": [
    "parse_trans = parse_transformer.fit_transform(dfAll)"
   ]
  },
  {
   "cell_type": "code",
   "execution_count": 32,
   "id": "33799d91",
   "metadata": {},
   "outputs": [
    {
     "data": {
      "text/plain": [
       "(array([0.5927035 , 0.6974205 , 0.71761502, 0.68852187, 0.63588245,\n",
       "        0.6416261 , 0.67811355, 0.64734747, 0.51415647, 0.63274462]),\n",
       " 0.6446131554954474,\n",
       " 0.05578098732767647)"
      ]
     },
     "execution_count": 32,
     "metadata": {},
     "output_type": "execute_result"
    }
   ],
   "source": [
    "ols = LinearRegression()\n",
    "scores = - cross_val_score(ols, parse_trans, dfTrain['target'], scoring=\"neg_mean_absolute_error\", cv=10)\n",
    "scores, scores.mean(), scores.std()"
   ]
  },
  {
   "cell_type": "code",
   "execution_count": 33,
   "id": "2d4854ea",
   "metadata": {},
   "outputs": [
    {
     "data": {
      "text/plain": [
       "(array([0.59199944, 0.672369  , 0.71815398, 0.66407275, 0.6249765 ,\n",
       "        0.62812538, 0.66354132, 0.64872684, 0.52865544, 0.64072416]),\n",
       " 0.6381344800688412,\n",
       " 0.0483732839185955)"
      ]
     },
     "execution_count": 33,
     "metadata": {},
     "output_type": "execute_result"
    }
   ],
   "source": [
    "gb_reg = GradientBoostingRegressor()\n",
    "gb_scores = cross_val_score(gb_reg, parse_trans, dfTrain['target'], scoring=\"neg_mean_absolute_error\", cv=10)\n",
    "gb_scores = - gb_scores\n",
    "gb_scores, gb_scores.mean(), gb_scores.std()"
   ]
  },
  {
   "cell_type": "code",
   "execution_count": 34,
   "id": "6841973b",
   "metadata": {},
   "outputs": [
    {
     "data": {
      "text/plain": [
       "({'predictor__n_estimators': 100}, -0.6383281303488408)"
      ]
     },
     "execution_count": 34,
     "metadata": {},
     "output_type": "execute_result"
    }
   ],
   "source": [
    "# gbs = Pipeline([(\"preprocessor\", base_pipeline),\n",
    "#                (\"predictor\", GradientBoostingRegressor())])\n",
    "\n",
    "# gbs_param_grid = {\"predictor__n_estimators\": [100, 200, 300]}\n",
    "\n",
    "# gbs_gs = GridSearchCV(gbs, gbs_param_grid, scoring = \"neg_mean_absolute_error\", cv = 10)\n",
    "\n",
    "# gbs_gs.fit(parse_trans, dfTrain['target'])\n",
    "\n",
    "# gbs_gs.best_params_, gbs_gs.best_score_"
   ]
  },
  {
   "cell_type": "code",
   "execution_count": 35,
   "id": "35b1f763",
   "metadata": {},
   "outputs": [
    {
     "data": {
      "text/plain": [
       "(array([0.58958303, 0.67688327, 0.76237886, 0.69240646, 0.64863393,\n",
       "        0.63186238, 0.6531834 , 0.66972   , 0.53225062, 0.65447941]),\n",
       " 0.6511381351369565,\n",
       " 0.057794563430916)"
      ]
     },
     "execution_count": 35,
     "metadata": {},
     "output_type": "execute_result"
    }
   ],
   "source": [
    "rf_reg = RandomForestRegressor(n_estimators = 300, max_depth = 20)\n",
    "rf_combined_scores = - cross_val_score(rf_reg, pos_trans, dfTrain['target'], scoring=\"neg_mean_absolute_error\", cv=10)\n",
    "rf_combined_scores, rf_combined_scores.mean(), rf_combined_scores.std()"
   ]
  },
  {
   "cell_type": "code",
   "execution_count": 37,
   "id": "72dbe39d",
   "metadata": {},
   "outputs": [
    {
     "data": {
      "text/plain": [
       "({'predictor__max_depth': 20, 'predictor__n_estimators': 300},\n",
       " -0.6359283278941612)"
      ]
     },
     "execution_count": 37,
     "metadata": {},
     "output_type": "execute_result"
    }
   ],
   "source": [
    "# rfs = Pipeline([(\"preprocessor\", base_pipeline),\n",
    "#                (\"predictor\", RandomForestRegressor())])\n",
    "\n",
    "# rfs_param_grid = {\"predictor__n_estimators\": [300,400, 500],\n",
    "#                  \"predictor__max_depth\": [20, None]}\n",
    "\n",
    "# rfs_gs = GridSearchCV(rfs, rfs_param_grid, scoring = \"neg_mean_absolute_error\", cv = 10)\n",
    "\n",
    "# rfs_gs.fit(parse_trans, dfTrain['target'])\n",
    "\n",
    "# rfs_gs.best_params_, rfs_gs.best_score_\n"
   ]
  },
  {
   "cell_type": "code",
   "execution_count": 38,
   "id": "2edd9b28",
   "metadata": {},
   "outputs": [
    {
     "data": {
      "image/png": "[encoded data removed]",
      "text/plain": [
       "<Figure size 432x288 with 1 Axes>"
      ]
     },
     "metadata": {
      "needs_background": "light"
     },
     "output_type": "display_data"
    }
   ],
   "source": [
    "methods = ['FK', 'GF', 'LR', 'GB', 'RF']\n",
    "MAE = [0.72, 0.71, 0.644, 0.638, 0.636]\n",
    "dfPOScores = pd.DataFrame({'Method': methods, 'MAE': MAE}, index=methods)\n",
    "ax = dfPOScores.plot.bar(rot = 0, title ='Constituency Parsing')"
   ]
  },
  {
   "cell_type": "code",
   "execution_count": 39,
   "id": "6843799d",
   "metadata": {},
   "outputs": [],
   "source": [
    "fig = ax.get_figure()\n",
    "fig.savefig(\"images/Parse.jpg\")"
   ]
  },
  {
   "cell_type": "code",
   "execution_count": null,
   "id": "6e3c7c26",
   "metadata": {},
   "outputs": [],
   "source": []
  }
 ],
 "metadata": {
  "kernelspec": {
   "display_name": "Python 3 (ipykernel)",
   "language": "python",
   "name": "python3"
  },
  "language_info": {
   "codemirror_mode": {
    "name": "ipython",
    "version": 3
   },
   "file_extension": ".py",
   "mimetype": "text/x-python",
   "name": "python",
   "nbconvert_exporter": "python",
   "pygments_lexer": "ipython3",
   "version": "3.9.5"
  }
 },
 "nbformat": 4,
 "nbformat_minor": 5
}
